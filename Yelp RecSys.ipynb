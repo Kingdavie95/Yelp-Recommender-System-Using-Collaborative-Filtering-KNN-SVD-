{
 "cells": [
  {
   "attachments": {},
   "cell_type": "markdown",
   "metadata": {},
   "source": [
    "# **<span style='color:#F76241'>|</span>Systems Development for Marketing </b>**\n",
    "### Building a Recommended System for YELP Dataset - David Andrew - 500903075\n",
    "## <font > **Structure:** </font>\n",
    "1. [Introduction](#1-Introduction)<br>\n",
    "    1.1 [Main Research question](#1.1Research-question)<br>\n",
    "    1.2 [Sub Research question](#1.1Research-question)<br>\n",
    "    1.3 [Data Preparation and Preprocessing](#1.2-Dataset)<br>\n",
    "2. [Exploratory Data Analysis(EDA)](#2-Yelp-Dataset)<br>\n",
    "    2.1 [Distribution of Ratings on Whole Dataset](#1.1-Data-Preparation-and-Preprocessing)<br>\n",
    "    2.2 [Distribution of Review Counts on Whole Dataset](#2.2-Filtering-the-Dataset-for-Popular-Movies-and-Active-Users)<br>\n",
    "    2.3 [Top 10 Cities with the Highest Number of Businesses on Yelp](2.3-Data-Visualizations)<br>\n",
    "    2.4 [Top 10 States with the Highest Number of Businesses on Yelp](2.4-Train/Validation/Testset-Splitting)<br>\n",
    "    2.5 [Star Ratings vs. Review Counts](2.5-Train/Validation/Testset-Splitting)<br>\n",
    "    2.6 [Correlation analysis between Star Ratings vs. Review Counts](2.6-Train/Validation/Testset-Splitting)<br>\n",
    "3. [Data Filtering for Popular Businesses and Ratings](#3-Sub-Question)<br>\n",
    "    3.1 [CREATING NEVADA SAMPLE](#3.1-)<br>\n",
    "    3.2 [CREATING ARIZONA SAMPLE](3.1.1-Jokes-similarity)<br>\n",
    "4. [Data Preparation for KNN Recommender System](#4-Sub-Question)<br>\n",
    "    4.1 [Nevada Data Preparation](#4.1-)<br>\n",
    "    4.2 [Arizona Data Preparation](4.1.1-Jokes-similarity)<br>\n",
    "5. [KNN Model Building & Recommender](#5-Conclusion)<br>\n",
    "    5.1 [NEVADA RECOMMENDER USING KNN](#5.1-)<br>\n",
    "        5.1.1 [KNN Hyperparameter Tuning](#5.2-)<br>\n",
    "    5.3 [ARIZONA RECOMMENDER USING KNN](#5.3-)<br>\n",
    "6. [SVD Model Building](#6-)<br>\n",
    "    6.1 [NEVADA RECOMMENDER USING SVD MODEL](#6.1-)<br>\n",
    "    6.2 [ARIZONA RECOMMENDER USING SVD MODEL](#6.2-)<br>\n",
    "7. [Conclusion & Results](#3-Conclusion)<br> "
   ]
  },
  {
   "attachments": {},
   "cell_type": "markdown",
   "metadata": {},
   "source": [
    "![Alt text](About%20Yelp%20dataset.png)"
   ]
  },
  {
   "attachments": {},
   "cell_type": "markdown",
   "metadata": {},
   "source": [
    "## <b>1<span style='color:#F76241'>|</span> Introduction </b>\n",
    "Recommender systems have become an essential tool in various domains, enabling businesses to personalize user experiences and improve customer satisfaction. Collaborative filtering techniques analyze patterns of user behavior and item preferences to generate personalized recommendations.\n",
    "\n",
    "The KNN algorithm leverages the similarity between users or items to make predictions and suggest items of interest. By finding the nearest neighbors based on user-item ratings, KNN can identify similar users or items and provide accurate recommendations.\n",
    "\n",
    "On the other hand, SVD is a matrix factorization technique that uncovers latent factors underlying user-item interactions. By decomposing the user-item rating matrix into lower-dimensional representations, SVD captures the latent preferences and characteristics of users and items, allowing for more efficient and accurate recommendations.\n",
    "\n",
    "This assignment will explore the implementation of both KNN and SVD models on the popular Yelp dataset. The models will be trained using a filtered dataset containing user-item ratings, evaluate their performance using appropriate metrics, and fine-tune their parameters for optimal results. The following Business question and sub-questions has been formulated:\n",
    "\n",
    "**<span style='color:#F76241'>1.1 Main Research question:</span>** </br>\n",
    "How can we utilize collaborative filtering methods to develop business recommendations for Yelp users in the top US states?\n",
    "\n",
    "**<span style='color:#F76241'>1.2 Sub Research questions:</span>** </br>\n",
    "   \n",
    "1. Is there a relationship between the Number reviews and the ratings given to a business. If Yes? then to what extent does the Star ratings impact the reviews given to a business?\n",
    "   \n",
    "2. What are the top 10 states with the highest number of businesses on Yelp?\n",
    "   \n",
    "3. How effective is the KNN model on the business recommendations in the top 2 states with the highest number of businesses on Yelp?\n",
    "   \n",
    "4. How effective is the SVD model on the business recommendations in the top 2 states with the highest number of businesses on Yelp?\n",
    "\n",
    "5. How does the choice of collaborative filtering method (KNN or SVD) impact the recommendation quality for businesses in the top 2 states?\n",
    "</br>\n",
    "\n",
    "</div>"
   ]
  },
  {
   "attachments": {},
   "cell_type": "markdown",
   "metadata": {},
   "source": [
    "### <b>1.3<span style='color:#F76241'>|</span> Data Importation</b>\n",
    "\n",
    "In this section, the necessary libraries and the datasetwill be imported. Data cleaning and preprocessing tasks will also be performing. Sklearn library was used for KNN and Surprise was used for the SVD<br>\n",
    "\n",
    "The following Python libraries have been imported for data analysis, data visualization and recommender system tasks:\n",
    "\n",
    "1.  The os library provides a way of interacting with the operating system. \n",
    "2.  The pandas library is used for data manipulation and analysis. \n",
    "3.  The numpy library is used for numerical calculations. \n",
    "4.  The seaborn and matplotlib.pyplot libraries are used for data visualization. \n",
    "5.  The scipy.sparse and scipy.sparse.csr_matrix libraries are used for sparse matrix manipulation. \n",
    "6.  The sklearn.neighbors library is used for nearest neighbors algorithm. \n",
    "7.  The sklearn.model_selection library is used for data splitting and cross-validation. \n",
    "8.  The sklearn.metrics library is used for performance evaluation. The surprise library is used for recommendation systems.\n",
    "9.  The specific functions imported from the surprise library are accuracy, SVD, and KNNBasic. \n",
    "10. The surprise.model_selection is used for train_test_split and cross_validate functions."
   ]
  },
  {
   "cell_type": "code",
   "execution_count": 1,
   "metadata": {},
   "outputs": [],
   "source": [
    "#importing libraries\n",
    "import json #library for working with JSON files\n",
    "import os #library for \n",
    "import gc #garbage collector library for saving RAM\n",
    "import pandas as pd #pandas dataframe library\n",
    "import numpy as np #numpy array library\n",
    "import matplotlib.pyplot as plt #library for plotting \n",
    "import seaborn as sns #seaborn library for visualization\n",
    "import branca.colormap as cm    #library for color mapping\n",
    "import plotly.express as px #plotly library for visualization\n",
    "\n",
    "import statsmodels.api as sm \n",
    "from statsmodels.formula.api import ols #\n",
    "import scipy.stats as stats #library for statistical analysis\n",
    "\n",
    "#libraries to execute KNN\n",
    "import sklearn as sk \n",
    "from scipy import sparse\n",
    "from sklearn.neighbors import KNeighborsClassifier #KNN function for checking the nearest neighbors\n",
    "from sklearn.metrics import accuracy_score\n",
    "from sklearn.model_selection import train_test_split, KFold, GridSearchCV #library for perfroming cross validation and Hyparparameter tuning\n",
    "from sklearn.metrics import make_scorer, mean_squared_error as mse\n",
    "from sklearn.model_selection import train_test_split #library for spliting dataset into train and test\n",
    "from sklearn.neighbors import NearestNeighbors #KNN function for checking the nearest neighbors\n",
    "from sklearn.model_selection import GridSearchCV #Gridsearch function for hyperparameter tuning\n",
    "from scipy.sparse import csr_matrix #Function to convert dataframe to a sparse matrix\n",
    "from sklearn.metrics.pairwise import cosine_similarity #function to measure the distance between vectors\n",
    "from sklearn.metrics import mean_absolute_error #function for checking model accuracy"
   ]
  },
  {
   "attachments": {},
   "cell_type": "markdown",
   "metadata": {},
   "source": [
    "The following steps are taken in the data Importation phase:\n",
    "- The business and reveiw datasets are imported from the Yelp dataset.\n",
    "- Dropped null values and duplicates from both datasets.\n",
    "- The final Yelp dataset is created by merging the business and review datasets.\n",
    "\n",
    "The Yelp dataframe is further filtered and prepared for the recommender system tasks in the subsequent sections which comes after the EDA<br>\n",
    "in this notebook."
   ]
  },
  {
   "cell_type": "code",
   "execution_count": 2,
   "metadata": {},
   "outputs": [],
   "source": [
    "# Load the Yelp Dataset\n",
    "\n",
    "# Load JSON data\n",
    "def load_json_data(file_path): #function to load JSON data\n",
    "    data = [] #create empty list\n",
    "    with open(file_path, 'r', encoding='utf-8') as file: # open file\n",
    "        for line in file: #loop through each line\n",
    "            data.append(json.loads(line)) #append each line to the list\n",
    "    return data #return the list\n",
    "\n",
    "# Load Yelp dataset\n",
    "businesses = load_json_data('C:/Users/User/Dropbox/PC/Desktop/Masters DDB/System development for marketing/Yelp/yelp-dataset/yelp_business.json')\n",
    "reviews = load_json_data('C:/Users/User/Dropbox/PC/Desktop/Masters DDB/System development for marketing/Yelp/yelp-dataset/yelp_review.json')\n",
    "\n",
    "# Create DataFrames\n",
    "business_df = pd.DataFrame(businesses)\n",
    "review_df = pd.DataFrame(reviews)"
   ]
  },
  {
   "cell_type": "code",
   "execution_count": 3,
   "metadata": {},
   "outputs": [
    {
     "data": {
      "text/html": [
       "<div>\n",
       "<style scoped>\n",
       "    .dataframe tbody tr th:only-of-type {\n",
       "        vertical-align: middle;\n",
       "    }\n",
       "\n",
       "    .dataframe tbody tr th {\n",
       "        vertical-align: top;\n",
       "    }\n",
       "\n",
       "    .dataframe thead th {\n",
       "        text-align: right;\n",
       "    }\n",
       "</style>\n",
       "<table border=\"1\" class=\"dataframe\">\n",
       "  <thead>\n",
       "    <tr style=\"text-align: right;\">\n",
       "      <th></th>\n",
       "      <th>business_id</th>\n",
       "      <th>name</th>\n",
       "      <th>address</th>\n",
       "      <th>city</th>\n",
       "      <th>state</th>\n",
       "      <th>postal_code</th>\n",
       "      <th>latitude</th>\n",
       "      <th>longitude</th>\n",
       "      <th>stars</th>\n",
       "      <th>review_count</th>\n",
       "      <th>is_open</th>\n",
       "      <th>attributes</th>\n",
       "      <th>categories</th>\n",
       "      <th>hours</th>\n",
       "    </tr>\n",
       "  </thead>\n",
       "  <tbody>\n",
       "    <tr>\n",
       "      <th>0</th>\n",
       "      <td>f9NumwFMBDn751xgFiRbNA</td>\n",
       "      <td>The Range At Lake Norman</td>\n",
       "      <td>10913 Bailey Rd</td>\n",
       "      <td>Cornelius</td>\n",
       "      <td>NC</td>\n",
       "      <td>28031</td>\n",
       "      <td>35.462724</td>\n",
       "      <td>-80.852612</td>\n",
       "      <td>3.5</td>\n",
       "      <td>36</td>\n",
       "      <td>1</td>\n",
       "      <td>{'BusinessAcceptsCreditCards': 'True', 'BikePa...</td>\n",
       "      <td>Active Life, Gun/Rifle Ranges, Guns &amp; Ammo, Sh...</td>\n",
       "      <td>{'Monday': '10:0-18:0', 'Tuesday': '11:0-20:0'...</td>\n",
       "    </tr>\n",
       "    <tr>\n",
       "      <th>1</th>\n",
       "      <td>Yzvjg0SayhoZgCljUJRF9Q</td>\n",
       "      <td>Carlos Santo, NMD</td>\n",
       "      <td>8880 E Via Linda, Ste 107</td>\n",
       "      <td>Scottsdale</td>\n",
       "      <td>AZ</td>\n",
       "      <td>85258</td>\n",
       "      <td>33.569404</td>\n",
       "      <td>-111.890264</td>\n",
       "      <td>5.0</td>\n",
       "      <td>4</td>\n",
       "      <td>1</td>\n",
       "      <td>{'GoodForKids': 'True', 'ByAppointmentOnly': '...</td>\n",
       "      <td>Health &amp; Medical, Fitness &amp; Instruction, Yoga,...</td>\n",
       "      <td>None</td>\n",
       "    </tr>\n",
       "    <tr>\n",
       "      <th>2</th>\n",
       "      <td>XNoUzKckATkOD1hP6vghZg</td>\n",
       "      <td>Felinus</td>\n",
       "      <td>3554 Rue Notre-Dame O</td>\n",
       "      <td>Montreal</td>\n",
       "      <td>QC</td>\n",
       "      <td>H4C 1P4</td>\n",
       "      <td>45.479984</td>\n",
       "      <td>-73.580070</td>\n",
       "      <td>5.0</td>\n",
       "      <td>5</td>\n",
       "      <td>1</td>\n",
       "      <td>None</td>\n",
       "      <td>Pets, Pet Services, Pet Groomers</td>\n",
       "      <td>None</td>\n",
       "    </tr>\n",
       "    <tr>\n",
       "      <th>3</th>\n",
       "      <td>6OAZjbxqM5ol29BuHsil3w</td>\n",
       "      <td>Nevada House of Hose</td>\n",
       "      <td>1015 Sharp Cir</td>\n",
       "      <td>North Las Vegas</td>\n",
       "      <td>NV</td>\n",
       "      <td>89030</td>\n",
       "      <td>36.219728</td>\n",
       "      <td>-115.127725</td>\n",
       "      <td>2.5</td>\n",
       "      <td>3</td>\n",
       "      <td>0</td>\n",
       "      <td>{'BusinessAcceptsCreditCards': 'True', 'ByAppo...</td>\n",
       "      <td>Hardware Stores, Home Services, Building Suppl...</td>\n",
       "      <td>{'Monday': '7:0-16:0', 'Tuesday': '7:0-16:0', ...</td>\n",
       "    </tr>\n",
       "    <tr>\n",
       "      <th>4</th>\n",
       "      <td>51M2Kk903DFYI6gnB5I6SQ</td>\n",
       "      <td>USE MY GUY SERVICES LLC</td>\n",
       "      <td>4827 E Downing Cir</td>\n",
       "      <td>Mesa</td>\n",
       "      <td>AZ</td>\n",
       "      <td>85205</td>\n",
       "      <td>33.428065</td>\n",
       "      <td>-111.726648</td>\n",
       "      <td>4.5</td>\n",
       "      <td>26</td>\n",
       "      <td>1</td>\n",
       "      <td>{'BusinessAcceptsCreditCards': 'True', 'ByAppo...</td>\n",
       "      <td>Home Services, Plumbing, Electricians, Handyma...</td>\n",
       "      <td>{'Monday': '0:0-0:0', 'Tuesday': '9:0-16:0', '...</td>\n",
       "    </tr>\n",
       "  </tbody>\n",
       "</table>\n",
       "</div>"
      ],
      "text/plain": [
       "              business_id                      name  \\\n",
       "0  f9NumwFMBDn751xgFiRbNA  The Range At Lake Norman   \n",
       "1  Yzvjg0SayhoZgCljUJRF9Q         Carlos Santo, NMD   \n",
       "2  XNoUzKckATkOD1hP6vghZg                   Felinus   \n",
       "3  6OAZjbxqM5ol29BuHsil3w      Nevada House of Hose   \n",
       "4  51M2Kk903DFYI6gnB5I6SQ   USE MY GUY SERVICES LLC   \n",
       "\n",
       "                     address             city state postal_code   latitude  \\\n",
       "0            10913 Bailey Rd        Cornelius    NC       28031  35.462724   \n",
       "1  8880 E Via Linda, Ste 107       Scottsdale    AZ       85258  33.569404   \n",
       "2      3554 Rue Notre-Dame O         Montreal    QC     H4C 1P4  45.479984   \n",
       "3             1015 Sharp Cir  North Las Vegas    NV       89030  36.219728   \n",
       "4         4827 E Downing Cir             Mesa    AZ       85205  33.428065   \n",
       "\n",
       "    longitude  stars  review_count  is_open  \\\n",
       "0  -80.852612    3.5            36        1   \n",
       "1 -111.890264    5.0             4        1   \n",
       "2  -73.580070    5.0             5        1   \n",
       "3 -115.127725    2.5             3        0   \n",
       "4 -111.726648    4.5            26        1   \n",
       "\n",
       "                                          attributes  \\\n",
       "0  {'BusinessAcceptsCreditCards': 'True', 'BikePa...   \n",
       "1  {'GoodForKids': 'True', 'ByAppointmentOnly': '...   \n",
       "2                                               None   \n",
       "3  {'BusinessAcceptsCreditCards': 'True', 'ByAppo...   \n",
       "4  {'BusinessAcceptsCreditCards': 'True', 'ByAppo...   \n",
       "\n",
       "                                          categories  \\\n",
       "0  Active Life, Gun/Rifle Ranges, Guns & Ammo, Sh...   \n",
       "1  Health & Medical, Fitness & Instruction, Yoga,...   \n",
       "2                   Pets, Pet Services, Pet Groomers   \n",
       "3  Hardware Stores, Home Services, Building Suppl...   \n",
       "4  Home Services, Plumbing, Electricians, Handyma...   \n",
       "\n",
       "                                               hours  \n",
       "0  {'Monday': '10:0-18:0', 'Tuesday': '11:0-20:0'...  \n",
       "1                                               None  \n",
       "2                                               None  \n",
       "3  {'Monday': '7:0-16:0', 'Tuesday': '7:0-16:0', ...  \n",
       "4  {'Monday': '0:0-0:0', 'Tuesday': '9:0-16:0', '...  "
      ]
     },
     "execution_count": 3,
     "metadata": {},
     "output_type": "execute_result"
    }
   ],
   "source": [
    "business_df.head()"
   ]
  },
  {
   "cell_type": "code",
   "execution_count": 4,
   "metadata": {},
   "outputs": [
    {
     "data": {
      "text/html": [
       "<div>\n",
       "<style scoped>\n",
       "    .dataframe tbody tr th:only-of-type {\n",
       "        vertical-align: middle;\n",
       "    }\n",
       "\n",
       "    .dataframe tbody tr th {\n",
       "        vertical-align: top;\n",
       "    }\n",
       "\n",
       "    .dataframe thead th {\n",
       "        text-align: right;\n",
       "    }\n",
       "</style>\n",
       "<table border=\"1\" class=\"dataframe\">\n",
       "  <thead>\n",
       "    <tr style=\"text-align: right;\">\n",
       "      <th></th>\n",
       "      <th>review_id</th>\n",
       "      <th>user_id</th>\n",
       "      <th>business_id</th>\n",
       "      <th>stars</th>\n",
       "      <th>useful</th>\n",
       "      <th>funny</th>\n",
       "      <th>cool</th>\n",
       "      <th>text</th>\n",
       "      <th>date</th>\n",
       "    </tr>\n",
       "  </thead>\n",
       "  <tbody>\n",
       "    <tr>\n",
       "      <th>0</th>\n",
       "      <td>xQY8N_XvtGbearJ5X4QryQ</td>\n",
       "      <td>OwjRMXRC0KyPrIlcjaXeFQ</td>\n",
       "      <td>-MhfebM0QIsKt87iDN-FNw</td>\n",
       "      <td>2.0</td>\n",
       "      <td>5</td>\n",
       "      <td>0</td>\n",
       "      <td>0</td>\n",
       "      <td>As someone who has worked with many museums, I...</td>\n",
       "      <td>2015-04-15 05:21:16</td>\n",
       "    </tr>\n",
       "    <tr>\n",
       "      <th>1</th>\n",
       "      <td>UmFMZ8PyXZTY2QcwzsfQYA</td>\n",
       "      <td>nIJD_7ZXHq-FX8byPMOkMQ</td>\n",
       "      <td>lbrU8StCq3yDfr-QMnGrmQ</td>\n",
       "      <td>1.0</td>\n",
       "      <td>1</td>\n",
       "      <td>1</td>\n",
       "      <td>0</td>\n",
       "      <td>I am actually horrified this place is still in...</td>\n",
       "      <td>2013-12-07 03:16:52</td>\n",
       "    </tr>\n",
       "    <tr>\n",
       "      <th>2</th>\n",
       "      <td>LG2ZaYiOgpr2DK_90pYjNw</td>\n",
       "      <td>V34qejxNsCbcgD8C0HVk-Q</td>\n",
       "      <td>HQl28KMwrEKHqhFrrDqVNQ</td>\n",
       "      <td>5.0</td>\n",
       "      <td>1</td>\n",
       "      <td>0</td>\n",
       "      <td>0</td>\n",
       "      <td>I love Deagan's. I do. I really do. The atmosp...</td>\n",
       "      <td>2015-12-05 03:18:11</td>\n",
       "    </tr>\n",
       "    <tr>\n",
       "      <th>3</th>\n",
       "      <td>i6g_oA9Yf9Y31qt0wibXpw</td>\n",
       "      <td>ofKDkJKXSKZXu5xJNGiiBQ</td>\n",
       "      <td>5JxlZaqCnk1MnbgRirs40Q</td>\n",
       "      <td>1.0</td>\n",
       "      <td>0</td>\n",
       "      <td>0</td>\n",
       "      <td>0</td>\n",
       "      <td>Dismal, lukewarm, defrosted-tasting \"TexMex\" g...</td>\n",
       "      <td>2011-05-27 05:30:52</td>\n",
       "    </tr>\n",
       "    <tr>\n",
       "      <th>4</th>\n",
       "      <td>6TdNDKywdbjoTkizeMce8A</td>\n",
       "      <td>UgMW8bLE0QMJDCkQ1Ax5Mg</td>\n",
       "      <td>IS4cv902ykd8wj1TR0N3-A</td>\n",
       "      <td>4.0</td>\n",
       "      <td>0</td>\n",
       "      <td>0</td>\n",
       "      <td>0</td>\n",
       "      <td>Oh happy day, finally have a Canes near my cas...</td>\n",
       "      <td>2017-01-14 21:56:57</td>\n",
       "    </tr>\n",
       "  </tbody>\n",
       "</table>\n",
       "</div>"
      ],
      "text/plain": [
       "                review_id                 user_id             business_id  \\\n",
       "0  xQY8N_XvtGbearJ5X4QryQ  OwjRMXRC0KyPrIlcjaXeFQ  -MhfebM0QIsKt87iDN-FNw   \n",
       "1  UmFMZ8PyXZTY2QcwzsfQYA  nIJD_7ZXHq-FX8byPMOkMQ  lbrU8StCq3yDfr-QMnGrmQ   \n",
       "2  LG2ZaYiOgpr2DK_90pYjNw  V34qejxNsCbcgD8C0HVk-Q  HQl28KMwrEKHqhFrrDqVNQ   \n",
       "3  i6g_oA9Yf9Y31qt0wibXpw  ofKDkJKXSKZXu5xJNGiiBQ  5JxlZaqCnk1MnbgRirs40Q   \n",
       "4  6TdNDKywdbjoTkizeMce8A  UgMW8bLE0QMJDCkQ1Ax5Mg  IS4cv902ykd8wj1TR0N3-A   \n",
       "\n",
       "   stars  useful  funny  cool  \\\n",
       "0    2.0       5      0     0   \n",
       "1    1.0       1      1     0   \n",
       "2    5.0       1      0     0   \n",
       "3    1.0       0      0     0   \n",
       "4    4.0       0      0     0   \n",
       "\n",
       "                                                text                 date  \n",
       "0  As someone who has worked with many museums, I...  2015-04-15 05:21:16  \n",
       "1  I am actually horrified this place is still in...  2013-12-07 03:16:52  \n",
       "2  I love Deagan's. I do. I really do. The atmosp...  2015-12-05 03:18:11  \n",
       "3  Dismal, lukewarm, defrosted-tasting \"TexMex\" g...  2011-05-27 05:30:52  \n",
       "4  Oh happy day, finally have a Canes near my cas...  2017-01-14 21:56:57  "
      ]
     },
     "execution_count": 4,
     "metadata": {},
     "output_type": "execute_result"
    }
   ],
   "source": [
    "review_df.head()"
   ]
  },
  {
   "cell_type": "code",
   "execution_count": 5,
   "metadata": {},
   "outputs": [],
   "source": [
    "# droping the null values and duplicates\n",
    "business_df = business_df.dropna()\n",
    "business_df.drop_duplicates(subset=['business_id'], keep='first', inplace=True)\n",
    "\n",
    "reviews_df = review_df.sort_values(by=['user_id'])\n",
    "reviews_df.drop_duplicates(subset=['user_id', 'business_id'], keep='first', inplace=True)"
   ]
  },
  {
   "attachments": {},
   "cell_type": "markdown",
   "metadata": {},
   "source": [
    "In the next step, we will be merging the review dataset with the business dataset to get the business name and the business categories for each review. We will be using the business_id column to merge the two datasets."
   ]
  },
  {
   "cell_type": "code",
   "execution_count": 6,
   "metadata": {},
   "outputs": [
    {
     "data": {
      "text/plain": [
       "(146796, 14)"
      ]
     },
     "execution_count": 6,
     "metadata": {},
     "output_type": "execute_result"
    }
   ],
   "source": [
    "#checking th number of rows and columns on the business dataframe\n",
    "business_df.shape"
   ]
  },
  {
   "cell_type": "code",
   "execution_count": 7,
   "metadata": {},
   "outputs": [
    {
     "data": {
      "text/plain": [
       "(8021122, 9)"
      ]
     },
     "execution_count": 7,
     "metadata": {},
     "output_type": "execute_result"
    }
   ],
   "source": [
    "#checking the number of rows and columns on the review dataframe\n",
    "review_df.shape"
   ]
  },
  {
   "cell_type": "code",
   "execution_count": 8,
   "metadata": {},
   "outputs": [
    {
     "name": "stdout",
     "output_type": "stream",
     "text": [
      "Unique users:  1968703\n",
      "Unique states:  31\n",
      "Unique businesses:  209393\n",
      "Unique cities:  1042\n"
     ]
    }
   ],
   "source": [
    "#printing the unique users, states, cities and businesses in the datasets\n",
    "print(\"Unique users: \", review_df.user_id.nunique())\n",
    "print(\"Unique states: \", business_df.state.nunique())\n",
    "print(\"Unique businesses: \", review_df.business_id.nunique())\n",
    "print(\"Unique cities: \", business_df.city.nunique())"
   ]
  },
  {
   "cell_type": "code",
   "execution_count": 9,
   "metadata": {},
   "outputs": [],
   "source": [
    "#merging the two dataframes\n",
    "yelp_df = pd.merge(business_df, review_df, on='business_id', how='inner')"
   ]
  },
  {
   "cell_type": "code",
   "execution_count": 10,
   "metadata": {},
   "outputs": [
    {
     "data": {
      "text/plain": [
       "(7299005, 22)"
      ]
     },
     "execution_count": 10,
     "metadata": {},
     "output_type": "execute_result"
    }
   ],
   "source": [
    "#checking the number of rows and columns on the merged dataframe\n",
    "yelp_df.shape"
   ]
  },
  {
   "cell_type": "code",
   "execution_count": 11,
   "metadata": {},
   "outputs": [
    {
     "data": {
      "text/html": [
       "<div>\n",
       "<style scoped>\n",
       "    .dataframe tbody tr th:only-of-type {\n",
       "        vertical-align: middle;\n",
       "    }\n",
       "\n",
       "    .dataframe tbody tr th {\n",
       "        vertical-align: top;\n",
       "    }\n",
       "\n",
       "    .dataframe thead th {\n",
       "        text-align: right;\n",
       "    }\n",
       "</style>\n",
       "<table border=\"1\" class=\"dataframe\">\n",
       "  <thead>\n",
       "    <tr style=\"text-align: right;\">\n",
       "      <th></th>\n",
       "      <th>business_id</th>\n",
       "      <th>name</th>\n",
       "      <th>address</th>\n",
       "      <th>city</th>\n",
       "      <th>state</th>\n",
       "      <th>postal_code</th>\n",
       "      <th>latitude</th>\n",
       "      <th>longitude</th>\n",
       "      <th>stars_x</th>\n",
       "      <th>review_count</th>\n",
       "      <th>...</th>\n",
       "      <th>categories</th>\n",
       "      <th>hours</th>\n",
       "      <th>review_id</th>\n",
       "      <th>user_id</th>\n",
       "      <th>stars_y</th>\n",
       "      <th>useful</th>\n",
       "      <th>funny</th>\n",
       "      <th>cool</th>\n",
       "      <th>text</th>\n",
       "      <th>date</th>\n",
       "    </tr>\n",
       "  </thead>\n",
       "  <tbody>\n",
       "    <tr>\n",
       "      <th>0</th>\n",
       "      <td>f9NumwFMBDn751xgFiRbNA</td>\n",
       "      <td>The Range At Lake Norman</td>\n",
       "      <td>10913 Bailey Rd</td>\n",
       "      <td>Cornelius</td>\n",
       "      <td>NC</td>\n",
       "      <td>28031</td>\n",
       "      <td>35.462724</td>\n",
       "      <td>-80.852612</td>\n",
       "      <td>3.5</td>\n",
       "      <td>36</td>\n",
       "      <td>...</td>\n",
       "      <td>Active Life, Gun/Rifle Ranges, Guns &amp; Ammo, Sh...</td>\n",
       "      <td>{'Monday': '10:0-18:0', 'Tuesday': '11:0-20:0'...</td>\n",
       "      <td>YkpjR5N5TLkwHi20IZ15zg</td>\n",
       "      <td>xDtS2iKsJuVUVzB2YhfPsg</td>\n",
       "      <td>4.0</td>\n",
       "      <td>23</td>\n",
       "      <td>2</td>\n",
       "      <td>4</td>\n",
       "      <td>Driving more than an half-hour to get to a gun...</td>\n",
       "      <td>2012-06-26 00:48:30</td>\n",
       "    </tr>\n",
       "    <tr>\n",
       "      <th>1</th>\n",
       "      <td>f9NumwFMBDn751xgFiRbNA</td>\n",
       "      <td>The Range At Lake Norman</td>\n",
       "      <td>10913 Bailey Rd</td>\n",
       "      <td>Cornelius</td>\n",
       "      <td>NC</td>\n",
       "      <td>28031</td>\n",
       "      <td>35.462724</td>\n",
       "      <td>-80.852612</td>\n",
       "      <td>3.5</td>\n",
       "      <td>36</td>\n",
       "      <td>...</td>\n",
       "      <td>Active Life, Gun/Rifle Ranges, Guns &amp; Ammo, Sh...</td>\n",
       "      <td>{'Monday': '10:0-18:0', 'Tuesday': '11:0-20:0'...</td>\n",
       "      <td>rB1D3_F5cED234lqvnJK1A</td>\n",
       "      <td>46HhzhpBfTdTSB5ceTx_Og</td>\n",
       "      <td>4.0</td>\n",
       "      <td>15</td>\n",
       "      <td>0</td>\n",
       "      <td>3</td>\n",
       "      <td>My dad came down to the area to visit, and whi...</td>\n",
       "      <td>2012-05-29 23:44:04</td>\n",
       "    </tr>\n",
       "    <tr>\n",
       "      <th>2</th>\n",
       "      <td>f9NumwFMBDn751xgFiRbNA</td>\n",
       "      <td>The Range At Lake Norman</td>\n",
       "      <td>10913 Bailey Rd</td>\n",
       "      <td>Cornelius</td>\n",
       "      <td>NC</td>\n",
       "      <td>28031</td>\n",
       "      <td>35.462724</td>\n",
       "      <td>-80.852612</td>\n",
       "      <td>3.5</td>\n",
       "      <td>36</td>\n",
       "      <td>...</td>\n",
       "      <td>Active Life, Gun/Rifle Ranges, Guns &amp; Ammo, Sh...</td>\n",
       "      <td>{'Monday': '10:0-18:0', 'Tuesday': '11:0-20:0'...</td>\n",
       "      <td>S5UuPziiDiEqFPuX5bY-kg</td>\n",
       "      <td>vBxT4_bjFrbZEarWz6vsCQ</td>\n",
       "      <td>4.0</td>\n",
       "      <td>0</td>\n",
       "      <td>0</td>\n",
       "      <td>0</td>\n",
       "      <td>First time and and last time.  I'm a punk!!! 2...</td>\n",
       "      <td>2017-06-18 00:24:54</td>\n",
       "    </tr>\n",
       "    <tr>\n",
       "      <th>3</th>\n",
       "      <td>f9NumwFMBDn751xgFiRbNA</td>\n",
       "      <td>The Range At Lake Norman</td>\n",
       "      <td>10913 Bailey Rd</td>\n",
       "      <td>Cornelius</td>\n",
       "      <td>NC</td>\n",
       "      <td>28031</td>\n",
       "      <td>35.462724</td>\n",
       "      <td>-80.852612</td>\n",
       "      <td>3.5</td>\n",
       "      <td>36</td>\n",
       "      <td>...</td>\n",
       "      <td>Active Life, Gun/Rifle Ranges, Guns &amp; Ammo, Sh...</td>\n",
       "      <td>{'Monday': '10:0-18:0', 'Tuesday': '11:0-20:0'...</td>\n",
       "      <td>nwEXkyNGhtsRCAv7kS9Urg</td>\n",
       "      <td>qiz4Ri_cMSsoH3ccN19eAw</td>\n",
       "      <td>5.0</td>\n",
       "      <td>2</td>\n",
       "      <td>0</td>\n",
       "      <td>0</td>\n",
       "      <td>Besides being a great range, they are not chea...</td>\n",
       "      <td>2016-02-14 02:28:57</td>\n",
       "    </tr>\n",
       "    <tr>\n",
       "      <th>4</th>\n",
       "      <td>f9NumwFMBDn751xgFiRbNA</td>\n",
       "      <td>The Range At Lake Norman</td>\n",
       "      <td>10913 Bailey Rd</td>\n",
       "      <td>Cornelius</td>\n",
       "      <td>NC</td>\n",
       "      <td>28031</td>\n",
       "      <td>35.462724</td>\n",
       "      <td>-80.852612</td>\n",
       "      <td>3.5</td>\n",
       "      <td>36</td>\n",
       "      <td>...</td>\n",
       "      <td>Active Life, Gun/Rifle Ranges, Guns &amp; Ammo, Sh...</td>\n",
       "      <td>{'Monday': '10:0-18:0', 'Tuesday': '11:0-20:0'...</td>\n",
       "      <td>oT2weUEWpPOqIAer3MmrCg</td>\n",
       "      <td>0awwOxKGZVDt52vxkEX-eA</td>\n",
       "      <td>1.0</td>\n",
       "      <td>2</td>\n",
       "      <td>1</td>\n",
       "      <td>0</td>\n",
       "      <td>Place is nice to look at, but wouldn't really ...</td>\n",
       "      <td>2014-05-28 20:00:46</td>\n",
       "    </tr>\n",
       "  </tbody>\n",
       "</table>\n",
       "<p>5 rows × 22 columns</p>\n",
       "</div>"
      ],
      "text/plain": [
       "              business_id                      name          address  \\\n",
       "0  f9NumwFMBDn751xgFiRbNA  The Range At Lake Norman  10913 Bailey Rd   \n",
       "1  f9NumwFMBDn751xgFiRbNA  The Range At Lake Norman  10913 Bailey Rd   \n",
       "2  f9NumwFMBDn751xgFiRbNA  The Range At Lake Norman  10913 Bailey Rd   \n",
       "3  f9NumwFMBDn751xgFiRbNA  The Range At Lake Norman  10913 Bailey Rd   \n",
       "4  f9NumwFMBDn751xgFiRbNA  The Range At Lake Norman  10913 Bailey Rd   \n",
       "\n",
       "        city state postal_code   latitude  longitude  stars_x  review_count  \\\n",
       "0  Cornelius    NC       28031  35.462724 -80.852612      3.5            36   \n",
       "1  Cornelius    NC       28031  35.462724 -80.852612      3.5            36   \n",
       "2  Cornelius    NC       28031  35.462724 -80.852612      3.5            36   \n",
       "3  Cornelius    NC       28031  35.462724 -80.852612      3.5            36   \n",
       "4  Cornelius    NC       28031  35.462724 -80.852612      3.5            36   \n",
       "\n",
       "   ...                                         categories  \\\n",
       "0  ...  Active Life, Gun/Rifle Ranges, Guns & Ammo, Sh...   \n",
       "1  ...  Active Life, Gun/Rifle Ranges, Guns & Ammo, Sh...   \n",
       "2  ...  Active Life, Gun/Rifle Ranges, Guns & Ammo, Sh...   \n",
       "3  ...  Active Life, Gun/Rifle Ranges, Guns & Ammo, Sh...   \n",
       "4  ...  Active Life, Gun/Rifle Ranges, Guns & Ammo, Sh...   \n",
       "\n",
       "                                               hours               review_id  \\\n",
       "0  {'Monday': '10:0-18:0', 'Tuesday': '11:0-20:0'...  YkpjR5N5TLkwHi20IZ15zg   \n",
       "1  {'Monday': '10:0-18:0', 'Tuesday': '11:0-20:0'...  rB1D3_F5cED234lqvnJK1A   \n",
       "2  {'Monday': '10:0-18:0', 'Tuesday': '11:0-20:0'...  S5UuPziiDiEqFPuX5bY-kg   \n",
       "3  {'Monday': '10:0-18:0', 'Tuesday': '11:0-20:0'...  nwEXkyNGhtsRCAv7kS9Urg   \n",
       "4  {'Monday': '10:0-18:0', 'Tuesday': '11:0-20:0'...  oT2weUEWpPOqIAer3MmrCg   \n",
       "\n",
       "                  user_id stars_y useful  funny  cool  \\\n",
       "0  xDtS2iKsJuVUVzB2YhfPsg     4.0     23      2     4   \n",
       "1  46HhzhpBfTdTSB5ceTx_Og     4.0     15      0     3   \n",
       "2  vBxT4_bjFrbZEarWz6vsCQ     4.0      0      0     0   \n",
       "3  qiz4Ri_cMSsoH3ccN19eAw     5.0      2      0     0   \n",
       "4  0awwOxKGZVDt52vxkEX-eA     1.0      2      1     0   \n",
       "\n",
       "                                                text                 date  \n",
       "0  Driving more than an half-hour to get to a gun...  2012-06-26 00:48:30  \n",
       "1  My dad came down to the area to visit, and whi...  2012-05-29 23:44:04  \n",
       "2  First time and and last time.  I'm a punk!!! 2...  2017-06-18 00:24:54  \n",
       "3  Besides being a great range, they are not chea...  2016-02-14 02:28:57  \n",
       "4  Place is nice to look at, but wouldn't really ...  2014-05-28 20:00:46  \n",
       "\n",
       "[5 rows x 22 columns]"
      ]
     },
     "execution_count": 11,
     "metadata": {},
     "output_type": "execute_result"
    }
   ],
   "source": [
    "#Displaying the first 5 rows of the merged dataframe\n",
    "yelp_df.head()"
   ]
  },
  {
   "cell_type": "code",
   "execution_count": 12,
   "metadata": {},
   "outputs": [
    {
     "name": "stdout",
     "output_type": "stream",
     "text": [
      "           latitude     longitude       stars_x  review_count       is_open  \\\n",
      "count  7.299005e+06  7.299005e+06  7.299005e+06  7.299005e+06  7.299005e+06   \n",
      "mean   3.706951e+01 -1.031973e+02  3.750874e+00  4.841533e+02  8.700068e-01   \n",
      "std    3.966718e+00  1.561803e+01  7.120253e-01  9.477084e+02  3.362960e-01   \n",
      "min    2.149726e+01 -1.580255e+02  1.000000e+00  3.000000e+00  0.000000e+00   \n",
      "25%    3.361038e+01 -1.151581e+02  3.500000e+00  5.600000e+01  1.000000e+00   \n",
      "50%    3.610238e+01 -1.119940e+02  4.000000e+00  1.680000e+02  1.000000e+00   \n",
      "75%    4.039794e+01 -8.145559e+01  4.000000e+00  4.720000e+02  1.000000e+00   \n",
      "max    5.129698e+01 -7.280655e+01  5.000000e+00  1.012900e+04  1.000000e+00   \n",
      "\n",
      "            stars_y        useful         funny          cool  \n",
      "count  7.299005e+06  7.299005e+06  7.299005e+06  7.299005e+06  \n",
      "mean   3.746676e+00  1.282186e+00  4.511242e-01  5.730929e-01  \n",
      "std    1.465963e+00  3.482987e+00  2.199143e+00  2.490178e+00  \n",
      "min    1.000000e+00 -1.000000e+00  0.000000e+00 -1.000000e+00  \n",
      "25%    3.000000e+00  0.000000e+00  0.000000e+00  0.000000e+00  \n",
      "50%    4.000000e+00  0.000000e+00  0.000000e+00  0.000000e+00  \n",
      "75%    5.000000e+00  1.000000e+00  0.000000e+00  0.000000e+00  \n",
      "max    5.000000e+00  1.122000e+03  9.760000e+02  5.020000e+02  \n"
     ]
    }
   ],
   "source": [
    "# Basic statistics\n",
    "print(yelp_df.describe())"
   ]
  },
  {
   "cell_type": "code",
   "execution_count": 13,
   "metadata": {},
   "outputs": [
    {
     "name": "stdout",
     "output_type": "stream",
     "text": [
      "business_id     0\n",
      "name            0\n",
      "address         0\n",
      "city            0\n",
      "state           0\n",
      "postal_code     0\n",
      "latitude        0\n",
      "longitude       0\n",
      "stars_x         0\n",
      "review_count    0\n",
      "is_open         0\n",
      "attributes      0\n",
      "categories      0\n",
      "hours           0\n",
      "review_id       0\n",
      "user_id         0\n",
      "stars_y         0\n",
      "useful          0\n",
      "funny           0\n",
      "cool            0\n",
      "text            0\n",
      "date            0\n",
      "dtype: int64\n"
     ]
    }
   ],
   "source": [
    "# Check for missing values\n",
    "print(yelp_df.isnull().sum())\n"
   ]
  },
  {
   "attachments": {},
   "cell_type": "markdown",
   "metadata": {},
   "source": [
    "<b><span style='color:#F76241'>|</span> REASON FOR DROPING COLUMNS</b>\n",
    " - Address: This column is not needed for the analysis.\n",
    " - attributes: This column is not needed for the analysis.\n",
    " - hours: This column is not needed for the analysis.\n",
    " - is_open: This column is not needed for the analysis.\n",
    " - stars_x: This column is is from the business dataset and is not needed for the analysis. We will use the stars column from the review dataset.\n",
    " - useful: This column is not needed for the recommender analysis.\n",
    " - funny: This column is not needed for the recommender analysis.\n",
    " - cool: This column is not needed for the recommender analysis."
   ]
  },
  {
   "cell_type": "code",
   "execution_count": 14,
   "metadata": {},
   "outputs": [],
   "source": [
    "#Drop columns that are not needed for the EDA\n",
    "yelp_df.drop(['address', 'attributes', 'hours', 'is_open', 'stars_x', 'useful', 'funny', 'cool'], axis=1, inplace=True)\n"
   ]
  },
  {
   "attachments": {},
   "cell_type": "markdown",
   "metadata": {},
   "source": [
    "## <b>2 <span style='color:#F76241'>|</span> Exploratory Data Analysis </b>\n",
    "\n",
    "In this EDA the yelp data is explored to understand it better and to get some insights that will guide the flow of our analysis and model. We have used the following progession to explore the data:\n",
    "\n",
    "1.  Distribution of the ratings in the whole dataset\n",
    "2.  Distribution of the reviews in the whole dataset\n",
    "3.  Top 10 Cities with the Highest Number of Businesses on Yelp\n",
    "4.  Top 10 States with the Highest Number of Businesses on Yelp\n",
    "5.  Distribution of ratings against review counts\n",
    "6.  Correlation analysis between ratings and review counts\n",
    "\n",
    "The aim of the following EDA is to help inform the recommender system design and to help answer the research questions. Description of each EDA is provided before the code and the output.\n"
   ]
  },
  {
   "attachments": {},
   "cell_type": "markdown",
   "metadata": {},
   "source": [
    "**2.1 <span style='color:#F76241'>|</span> Distribution of Ratings on Whole Dataset**\n",
    "\n",
    "The ratings are skewed towards the left. The ratings 1, 2 and 3 are very less compared to 4 and 5. This shows that the users are more likely to give a higher rating to a business. While this is partly true based on the result on the histogram below, we cannot conclude that the users are biased towards giving a higher rating to a business. This is because the dataset is not balanced. The 1-Star ratings are the third highest ratings in the dataset. This shows that the users are not biased towards giving a higher rating to a business with higher ratings."
   ]
  },
  {
   "cell_type": "code",
   "execution_count": 15,
   "metadata": {},
   "outputs": [
    {
     "data": {
      "image/png": "[encoded data removed]",
      "text/plain": [
       "<Figure size 640x480 with 1 Axes>"
      ]
     },
     "metadata": {},
     "output_type": "display_data"
    }
   ],
   "source": [
    "# Distribution of ratings on Whole Dataset\n",
    "sns.countplot(x='stars_y', data=yelp_df)\n",
    "plt.title('Distribution of Ratings')\n",
    "plt.show()"
   ]
  },
  {
   "attachments": {},
   "cell_type": "markdown",
   "metadata": {},
   "source": [
    "**2.2 <span style='color:#F76241'>|</span> Distribution of Review Counts on Whole Dataset**\n",
    "\n",
    "The distribution of the review counts shows that most of the businesses have a review count within the range of 200 (we know this because we have 10 bins per 2000 review count in the  histogram which means one point is 200 reviews). There are fewer businesses that have more than 200 reviews. The distribution of the review counts is skewed to the right. This will be important to keep in mind when we are building the recommender system. (See the filtering section for more details)"
   ]
  },
  {
   "cell_type": "code",
   "execution_count": 16,
   "metadata": {},
   "outputs": [
    {
     "data": {
      "image/png": "[encoded data removed]",
      "text/plain": [
       "<Figure size 640x480 with 1 Axes>"
      ]
     },
     "metadata": {},
     "output_type": "display_data"
    }
   ],
   "source": [
    "# Distribution of review counts\n",
    "sns.histplot(yelp_df['review_count'], kde=False, bins=50)\n",
    "plt.title('Distribution of Review Counts')\n",
    "plt.xlabel('Review Count')\n",
    "plt.ylabel('Frequency')\n",
    "plt.show()"
   ]
  },
  {
   "attachments": {},
   "cell_type": "markdown",
   "metadata": {},
   "source": [
    "**2.3 <span style='color:#F76241'>|</span> Top 10 Cities with the Highest Number of Businesses on Yelp** <br>\n",
    "\n",
    "The Code below displays the top 10 cities with the highest number of businesses in the Yelp dataset. The aim of this code is to get a better understanding of the dataset and to see which cities have the most businesses on Yelp. This bar plot shows the top 10 cities with the most businesses listed on Yelp. On the x-axis, we have the names of the cities, and on the y-axis, the number of businesses. This visualization helps us understand which cities have the highest concentration of Yelp-listed businesses. Las Vegas has the highest number of businesses listed on Yelp, followed by Toronto, Phoenix, and Charlotte."
   ]
  },
  {
   "cell_type": "code",
   "execution_count": 17,
   "metadata": {},
   "outputs": [
    {
     "data": {
      "image/png": "[encoded data removed]",
      "text/plain": [
       "<Figure size 1200x600 with 1 Axes>"
      ]
     },
     "metadata": {},
     "output_type": "display_data"
    }
   ],
   "source": [
    "# Top cities by number of businesses\n",
    "top_cities = yelp_df['city'].value_counts().head(10)\n",
    "plt.figure(figsize=(12,6))\n",
    "sns.barplot(x=top_cities.index, y=top_cities.values)\n",
    "plt.title('Top Cities by Number of Businesses')\n",
    "plt.xlabel('City')\n",
    "plt.ylabel('Number of Businesses')\n",
    "plt.show()\n"
   ]
  },
  {
   "attachments": {},
   "cell_type": "markdown",
   "metadata": {},
   "source": [
    "**2.4 <span style='color:#F76241'>|</span> Top 10 States with the Highest Number of Businesses on Yelp** <br>\n",
    "\n",
    "In the code below, we have created a bar plot to show the top 10 states with the highest number of businesses in the Yelp dataset. This visualization helps us understand which states have the highest concentration of Yelp-listed businesses and can provide insights into the geographical distribution of the businesses and help identify areas with high business activity. We are particularly interested in the top 10 states with the highest number of businesses. Nevada has the highest number of businesses listed on Yelp, followed by Ontario, Arizona, and North Carolina. We do this in two steps:\n",
    "\n",
    "1. First, we obtain the count of businesses per state from the Yelp dataset.\n",
    "2. Second, we plot the top 10 states with the highest number of businesses in the Yelp dataset."
   ]
  },
  {
   "cell_type": "code",
   "execution_count": 18,
   "metadata": {},
   "outputs": [
    {
     "data": {
      "image/png": "[encoded data removed]",
      "text/plain": [
       "<Figure size 1200x600 with 1 Axes>"
      ]
     },
     "metadata": {},
     "output_type": "display_data"
    }
   ],
   "source": [
    "# Top states by number of businesses\n",
    "top_states = yelp_df['state'].value_counts().head(10)\n",
    "plt.figure(figsize=(12,6))\n",
    "sns.barplot(x = top_states.index, y = top_states.values)\n",
    "plt.title('Top States by Number of Businesses')\n",
    "plt.xlabel('State')\n",
    "plt.ylabel('Number of Businesses')\n",
    "plt.show()\n"
   ]
  },
  {
   "attachments": {},
   "cell_type": "markdown",
   "metadata": {},
   "source": [
    "**2.5 <span style='color:#F76241'>|</span>Star Ratings vs. Review Counts** <br>\n",
    "\n",
    "The following code aims to visualize the relationship between the star ratings of businesses (stars_y) and their corresponding review counts (review_count) in the Yelp dataset. This helps us understand the distribution of review counts for each star rating category.\n",
    "\n",
    "The boxplot visualization is created using Seaborn's boxplot() function, which provides a way to represent the distribution of data values across different categories. In this case, each category corresponds to a different star rating.\n",
    "\n",
    "This visualization can provide insights into how the quantity of reviews received by businesses might be related to their star ratings.<br>"
   ]
  },
  {
   "cell_type": "code",
   "execution_count": 19,
   "metadata": {},
   "outputs": [
    {
     "data": {
      "image/png": "[encoded data removed]",
      "text/plain": [
       "<Figure size 640x480 with 1 Axes>"
      ]
     },
     "metadata": {},
     "output_type": "display_data"
    }
   ],
   "source": [
    "# Correlation between stars and review count\n",
    "sns.boxplot(x='stars_y', y='review_count', data=yelp_df)\n",
    "# Set the title of the plot\n",
    "plt.title('Ratings vs. Review Count')\n",
    "# Display the plot\n",
    "plt.show()"
   ]
  },
  {
   "attachments": {},
   "cell_type": "markdown",
   "metadata": {},
   "source": [
    "**<span style='color:#F76241'> Sub-question 1: Is there a relationship between the number of reviews and the ratings given to a business. If Yes? then to what extent does the Star ratings impact the reviews?</span>**\n",
    "\n",
    "We can see that businesses with a 5-star rating have a higher median review count than businesses with a 1-star rating. This suggests that businesses with a higher star rating tend to receive more reviews than businesses with a lower star rating. While the review count do not really differ much across the star ratings, other interesting observations include:\n",
    "- Businesses with a 4-star rating have a higher median review count than businesses with a 3-star rating.\n",
    "- Businesses with a 2-star rating have a higher median review count than businesses with a 1-star rating.\n",
    "\n",
    "To answer the question, based on the plot, it is a little evident that there is a relationship between the reviews and the ratings and the significance of this relationship can be tested with a simple pearson correlation. This statistical test will be performed in the next section."
   ]
  },
  {
   "attachments": {},
   "cell_type": "markdown",
   "metadata": {},
   "source": [
    "**2.6 <span style='color:#F76241'>|</span> Correlation analysis between Star Ratings vs. Review Counts** <br>\n",
    "Pearson correlation coefficient is a measure of the linear correlation between two variables X and Y. It has a value between +1 and −1, where 1 is total positive linear correlation, 0 is no linear correlation, and −1 is total negative linear correlation. \n",
    "\n",
    "We use this to check the correlation between the review count and the star ratings. The correlation coefficient is 0.03 which is very low. This shows that there is no linear correlation between the review count and the star ratings. This means that the star ratings do not have a significant impact on the review count. This is also evident from the boxplot above. The boxplot shows that the review count does not differ much across the star ratings. This means that the star ratings do not have a significant impact on the review count."
   ]
  },
  {
   "cell_type": "code",
   "execution_count": 20,
   "metadata": {},
   "outputs": [
    {
     "name": "stderr",
     "output_type": "stream",
     "text": [
      "C:\\Users\\User\\AppData\\Local\\Temp\\ipykernel_26772\\2947514156.py:2: FutureWarning: The default value of numeric_only in DataFrame.corr is deprecated. In a future version, it will default to False. Select only valid columns or specify the value of numeric_only to silence this warning.\n",
      "  corr_matrix = yelp_df.corr()\n"
     ]
    },
    {
     "data": {
      "image/png": "[encoded data removed]",
      "text/plain": [
       "<Figure size 1000x500 with 2 Axes>"
      ]
     },
     "metadata": {},
     "output_type": "display_data"
    }
   ],
   "source": [
    "# Correlation matrix of the independent Variables\n",
    "corr_matrix = yelp_df.corr()\n",
    "fig, ax=plt.subplots(figsize=(10,5))\n",
    "sns.heatmap(corr_matrix, annot=True, ax=ax) #creating a heatmap\n",
    "plt.title(\"Correlation Matrix of numerical variables\")\n",
    "plt.show()"
   ]
  },
  {
   "attachments": {},
   "cell_type": "markdown",
   "metadata": {},
   "source": [
    "## <b>3 <span style='color:#F76241'>|</span>Data Filtering for Popular Businesses and Ratings</b><br>\n",
    "\n",
    "In this Section we will be filtering the dataset for popular businesses and ratings. We will be using the following criteria to filter the dataset:\n",
    "- Active users: Users who have rated at least 4 businesses\n",
    "- Review Count: Number of reviews of the business is greater than or equal to 200\n",
    "- Sample of 500 businesses in the top 2 states with the highest number of businesses (Nevada and Arizona)\n",
    "\n",
    "The essense of this is for further memory optimization reasons and subsequently help to improve the performance and relevance of our recommendation systems."
   ]
  },
  {
   "attachments": {},
   "cell_type": "markdown",
   "metadata": {},
   "source": [
    "In the code below, we initiate the filtering process. The filtering process is done in these stages:\n",
    "\n",
    "- First, we filter the dataset for active users who have rated more businesses based on the average number of ratings per user calculated below.\n",
    "- Second, we filter the dataset for businesses with a review count greater than or equal to 200 (Based on the histogram in the EDA section - Distribution of Review Counts on Whole Dataset). This will help us focus on the businesses that have a higher review count\n",
    "- From this filtered set, we will select sample of 500 business by the top 2 states to help us answer our research questions. The sample is selected based on the top 2 states with the highest number of businesses. \n",
    "- Next, we create subsets of the filtered dataset for the top 2 states with the highest number of businesses (Nevada and Arizona). This will help us answer our research questions."
   ]
  },
  {
   "cell_type": "code",
   "execution_count": 21,
   "metadata": {},
   "outputs": [],
   "source": [
    "# Count the number of ratings for each user\n",
    "ratings_count = yelp_df.groupby('user_id')['stars_y'].count()\n",
    "\n",
    "# Compute the average number of ratings per user\n",
    "average_number_of_ratings_per_user = ratings_count.mean()\n",
    "\n",
    "# Filter out users that have less than 3 ratings\n",
    "active_users = ratings_count[ratings_count >= average_number_of_ratings_per_user]"
   ]
  },
  {
   "cell_type": "code",
   "execution_count": 22,
   "metadata": {},
   "outputs": [
    {
     "name": "stdout",
     "output_type": "stream",
     "text": [
      "The average number of ratings per user is 3.94455309957139\n"
     ]
    }
   ],
   "source": [
    "#print the average_number_of_ratings_per_user\n",
    "print(f\"The average number of ratings per user is {average_number_of_ratings_per_user}\")"
   ]
  },
  {
   "cell_type": "code",
   "execution_count": 23,
   "metadata": {},
   "outputs": [],
   "source": [
    "# Now, 'active_users' is a Series where the index is 'user_id' and the value is the number of ratings\n",
    "# If you want to get a DataFrame with the information of the active users, you can do:\n",
    "yelp_df = yelp_df[yelp_df['user_id'].isin(active_users.index)]"
   ]
  },
  {
   "attachments": {},
   "cell_type": "markdown",
   "metadata": {},
   "source": [
    "After this first step of filtering, the updated dataset has **1,980,621** data points from **8021122**. This is a significant reduction in the size of the dataset. This is a reduction of 75.3% in the size of the dataset. This will help us focus on business that are rated more and also on users who have rated more businesses."
   ]
  },
  {
   "cell_type": "code",
   "execution_count": 24,
   "metadata": {},
   "outputs": [
    {
     "data": {
      "text/plain": [
       "(5246057, 14)"
      ]
     },
     "execution_count": 24,
     "metadata": {},
     "output_type": "execute_result"
    }
   ],
   "source": [
    "yelp_df.shape"
   ]
  },
  {
   "cell_type": "code",
   "execution_count": 25,
   "metadata": {},
   "outputs": [],
   "source": [
    "#Reducing the dataframe to businesses with an average review count above 200\n",
    "yelp_df = yelp_df[yelp_df['review_count'] >= 200]"
   ]
  },
  {
   "cell_type": "code",
   "execution_count": 26,
   "metadata": {},
   "outputs": [
    {
     "data": {
      "text/plain": [
       "(2384679, 14)"
      ]
     },
     "execution_count": 26,
     "metadata": {},
     "output_type": "execute_result"
    }
   ],
   "source": [
    "#rechecking the shape of the dataframe\n",
    "yelp_df.shape"
   ]
  },
  {
   "attachments": {},
   "cell_type": "markdown",
   "metadata": {},
   "source": [
    "<b>3.1 <span style='color:#F76241'>|</span>CREATING NEVADA SAMPLE.</b>"
   ]
  },
  {
   "cell_type": "code",
   "execution_count": 27,
   "metadata": {},
   "outputs": [],
   "source": [
    "#get a random sample of 500 unique business_ids in Nevada\n",
    "nv_business_ids = yelp_df[yelp_df['state'] == 'NV']['business_id'].unique() #get all the business_ids in Nevada\n",
    "nv_business_ids = np.random.choice(nv_business_ids, size=500, replace=False) #get a random sample of 500 business_ids\n",
    "\n",
    "#Create a dataframe called 'nevada_df'\n",
    "nevada_df = yelp_df[yelp_df['business_id'].isin(nv_business_ids)]"
   ]
  },
  {
   "cell_type": "code",
   "execution_count": 28,
   "metadata": {},
   "outputs": [
    {
     "data": {
      "text/plain": [
       "(216242, 14)"
      ]
     },
     "execution_count": 28,
     "metadata": {},
     "output_type": "execute_result"
    }
   ],
   "source": [
    "#rechecking the shape of the dataframe\n",
    "nevada_df.shape"
   ]
  },
  {
   "attachments": {},
   "cell_type": "markdown",
   "metadata": {},
   "source": [
    "For Nevada, we now have sample of 131,324 data points from 1,980,621. This is a reduction of 93.4% in the size of the dataset."
   ]
  },
  {
   "attachments": {},
   "cell_type": "markdown",
   "metadata": {},
   "source": [
    "<b>3.2 <span style='color:#F76241'>|</span>CREATING ARIZONA SAMPLE.</b>"
   ]
  },
  {
   "cell_type": "code",
   "execution_count": 29,
   "metadata": {},
   "outputs": [],
   "source": [
    "#get a random sample of 500 unique business_ids in Arizona\n",
    "az_business_ids = yelp_df[yelp_df['state'] == 'AZ']['business_id'].unique() #get all business_ids in Arizona\n",
    "az_business_ids = np.random.choice(az_business_ids, size=500, replace=False) #get a random sample of 500 unique business_ids in Arizona\n",
    "\n",
    "#Create a dataframe called 'arizona_df'\n",
    "arizona_df = yelp_df[yelp_df['business_id'].isin(az_business_ids)]\n"
   ]
  },
  {
   "cell_type": "code",
   "execution_count": 30,
   "metadata": {},
   "outputs": [
    {
     "data": {
      "text/plain": [
       "(164565, 14)"
      ]
     },
     "execution_count": 30,
     "metadata": {},
     "output_type": "execute_result"
    }
   ],
   "source": [
    "#rechecking the shape of the dataframe\n",
    "arizona_df.shape"
   ]
  },
  {
   "attachments": {},
   "cell_type": "markdown",
   "metadata": {},
   "source": [
    "## <b>4 <span style='color:#F76241'>|</span>Data Preparation for KNN Recommender System</b>\n",
    "\n",
    "Based on the above filtering process, it is evident that the size of the dataset has been reduced from **8021122** to **1360149** data points overall. The code below demonstrates the preparation of the Nevada and Arizona datasets to a structure the dataset for the recommender system in the following section. The following steps are used:\n",
    "- First, we create a new column called \"user_id_index\" and \"business_id_index\", then assign a unique integer value to each user_id in the dataset. we do this because the business and user ids are alphanumeric and we need to convert them to integer values for easy manipulation in the recommender system.\n",
    "- Rename the stars_y column to \"rating\" to make it easier to understand.\n",
    "- Third, we check for duplicate user_id and business_id pairs and handle them by keeping the first instance of the pair and dropping the rest to avoid problems when creating the user_business matrix. We do this instead of dropping all the duplicates because we do not want to lose the information about the rating given by the user to the business.\n",
    "- Fourth, we create a new dataframe called \"nevada_filtered\" and \"arizona_filtered\" by selecting the columns \"user_id_index\", \"name\", \"business_id_index\", and \"rating\" from the 'nevada_df' and 'arizona_df' dataframes respectively.\n",
    "- The \"user_id_index\", \"business_id_index\", and \"name\" columns are renamed to \"user_id\", \"business_id\", and \"business_name\" respectively.\n",
    "- Both dataframes are split into training and test sets using the train_test_split() function from the sklearn.model_selection library.\n",
    "- Pivot Tables are created for both the training and test sets using the pivot_table() function from the pandas library. The pivot tables are created to have the \"user_id\" as the index, \"business_id\" as the columns, and \"rating\" as the values.\n",
    "- The pivot tables are converted to sparse matrices using the csr_matrix() function from the scipy.sparse library and now ready to be used in the recommender system.\n",
    "\n",
    "<b>This process is repeated for both Nevada and Arizona subsets thus we have two subsections below.</b>\n"
   ]
  },
  {
   "attachments": {},
   "cell_type": "markdown",
   "metadata": {},
   "source": [
    "<b>4.1 <span style='color:#F76241'>|</span>NEVADA DATA PREPARATION.</b>"
   ]
  },
  {
   "cell_type": "code",
   "execution_count": 31,
   "metadata": {},
   "outputs": [
    {
     "name": "stderr",
     "output_type": "stream",
     "text": [
      "C:\\Users\\User\\AppData\\Local\\Temp\\ipykernel_26772\\3074232093.py:2: SettingWithCopyWarning: \n",
      "A value is trying to be set on a copy of a slice from a DataFrame.\n",
      "Try using .loc[row_indexer,col_indexer] = value instead\n",
      "\n",
      "See the caveats in the documentation: https://pandas.pydata.org/pandas-docs/stable/user_guide/indexing.html#returning-a-view-versus-a-copy\n",
      "  nevada_df['user_id_index'] = nevada_df.groupby('user_id').ngroup()\n",
      "C:\\Users\\User\\AppData\\Local\\Temp\\ipykernel_26772\\3074232093.py:5: SettingWithCopyWarning: \n",
      "A value is trying to be set on a copy of a slice from a DataFrame.\n",
      "Try using .loc[row_indexer,col_indexer] = value instead\n",
      "\n",
      "See the caveats in the documentation: https://pandas.pydata.org/pandas-docs/stable/user_guide/indexing.html#returning-a-view-versus-a-copy\n",
      "  nevada_df['business_id_index'] = nevada_df.groupby('business_id').ngroup()\n",
      "C:\\Users\\User\\AppData\\Local\\Temp\\ipykernel_26772\\3074232093.py:8: SettingWithCopyWarning: \n",
      "A value is trying to be set on a copy of a slice from a DataFrame\n",
      "\n",
      "See the caveats in the documentation: https://pandas.pydata.org/pandas-docs/stable/user_guide/indexing.html#returning-a-view-versus-a-copy\n",
      "  nevada_df.rename(columns={'stars_y': 'rating'}, inplace=True)\n"
     ]
    }
   ],
   "source": [
    "#create a new column called \"user_id_index\" and assign a unique integer value to each user_id in the dataset.\n",
    "nevada_df['user_id_index'] = nevada_df.groupby('user_id').ngroup()\n",
    "\n",
    "#create a new column called \"business_id_index\" and assign a unique integer value to each business_id in the dataset.\n",
    "nevada_df['business_id_index'] = nevada_df.groupby('business_id').ngroup()\n",
    "\n",
    "#rename the 'stars_y' column to 'rating'\n",
    "nevada_df.rename(columns={'stars_y': 'rating'}, inplace=True)"
   ]
  },
  {
   "cell_type": "code",
   "execution_count": 32,
   "metadata": {},
   "outputs": [
    {
     "data": {
      "text/html": [
       "<div>\n",
       "<style scoped>\n",
       "    .dataframe tbody tr th:only-of-type {\n",
       "        vertical-align: middle;\n",
       "    }\n",
       "\n",
       "    .dataframe tbody tr th {\n",
       "        vertical-align: top;\n",
       "    }\n",
       "\n",
       "    .dataframe thead th {\n",
       "        text-align: right;\n",
       "    }\n",
       "</style>\n",
       "<table border=\"1\" class=\"dataframe\">\n",
       "  <thead>\n",
       "    <tr style=\"text-align: right;\">\n",
       "      <th></th>\n",
       "      <th>business_id</th>\n",
       "      <th>name</th>\n",
       "      <th>city</th>\n",
       "      <th>state</th>\n",
       "      <th>postal_code</th>\n",
       "      <th>latitude</th>\n",
       "      <th>longitude</th>\n",
       "      <th>review_count</th>\n",
       "      <th>categories</th>\n",
       "      <th>review_id</th>\n",
       "      <th>user_id</th>\n",
       "      <th>rating</th>\n",
       "      <th>text</th>\n",
       "      <th>date</th>\n",
       "      <th>user_id_index</th>\n",
       "      <th>business_id_index</th>\n",
       "    </tr>\n",
       "  </thead>\n",
       "  <tbody>\n",
       "    <tr>\n",
       "      <th>9500</th>\n",
       "      <td>pZnHE9LS8OBWenUrGOLgDA</td>\n",
       "      <td>Eden Nails &amp; Spa</td>\n",
       "      <td>Las Vegas</td>\n",
       "      <td>NV</td>\n",
       "      <td>89169</td>\n",
       "      <td>36.11811</td>\n",
       "      <td>-115.154223</td>\n",
       "      <td>213</td>\n",
       "      <td>Skin Care, Beauty &amp; Spas, Day Spas, Waxing, Na...</td>\n",
       "      <td>kM7JE7lFSqNMRAkZV-pOhg</td>\n",
       "      <td>2CgLe_T0JLIhEGbg60ThEA</td>\n",
       "      <td>4.0</td>\n",
       "      <td>Eden Nails &amp; Spa has the biggest selection of ...</td>\n",
       "      <td>2017-06-07 00:03:20</td>\n",
       "      <td>4795</td>\n",
       "      <td>411</td>\n",
       "    </tr>\n",
       "    <tr>\n",
       "      <th>9503</th>\n",
       "      <td>pZnHE9LS8OBWenUrGOLgDA</td>\n",
       "      <td>Eden Nails &amp; Spa</td>\n",
       "      <td>Las Vegas</td>\n",
       "      <td>NV</td>\n",
       "      <td>89169</td>\n",
       "      <td>36.11811</td>\n",
       "      <td>-115.154223</td>\n",
       "      <td>213</td>\n",
       "      <td>Skin Care, Beauty &amp; Spas, Day Spas, Waxing, Na...</td>\n",
       "      <td>52OLamIFpgyn-tB7MuNz-A</td>\n",
       "      <td>Oe4b9SDjQjhOApNZ5lCCTA</td>\n",
       "      <td>5.0</td>\n",
       "      <td>My laid friend had a pedicure and manicure don...</td>\n",
       "      <td>2016-08-25 21:23:52</td>\n",
       "      <td>38318</td>\n",
       "      <td>411</td>\n",
       "    </tr>\n",
       "    <tr>\n",
       "      <th>9506</th>\n",
       "      <td>pZnHE9LS8OBWenUrGOLgDA</td>\n",
       "      <td>Eden Nails &amp; Spa</td>\n",
       "      <td>Las Vegas</td>\n",
       "      <td>NV</td>\n",
       "      <td>89169</td>\n",
       "      <td>36.11811</td>\n",
       "      <td>-115.154223</td>\n",
       "      <td>213</td>\n",
       "      <td>Skin Care, Beauty &amp; Spas, Day Spas, Waxing, Na...</td>\n",
       "      <td>k92IjnQwzpuX0H_MA34lIQ</td>\n",
       "      <td>t39INFyDMBKyHy9lWeLqMg</td>\n",
       "      <td>2.0</td>\n",
       "      <td>Went in to get a mani pedi (gel on the nail an...</td>\n",
       "      <td>2018-04-16 05:00:32</td>\n",
       "      <td>85042</td>\n",
       "      <td>411</td>\n",
       "    </tr>\n",
       "    <tr>\n",
       "      <th>9509</th>\n",
       "      <td>pZnHE9LS8OBWenUrGOLgDA</td>\n",
       "      <td>Eden Nails &amp; Spa</td>\n",
       "      <td>Las Vegas</td>\n",
       "      <td>NV</td>\n",
       "      <td>89169</td>\n",
       "      <td>36.11811</td>\n",
       "      <td>-115.154223</td>\n",
       "      <td>213</td>\n",
       "      <td>Skin Care, Beauty &amp; Spas, Day Spas, Waxing, Na...</td>\n",
       "      <td>saZTup1s3Z94CVgqdOBgEw</td>\n",
       "      <td>AiAOlN8oOvt4ZCGJ2ZRLDA</td>\n",
       "      <td>1.0</td>\n",
       "      <td>I can still feel the hard dead skin on the sur...</td>\n",
       "      <td>2018-06-09 20:12:40</td>\n",
       "      <td>17598</td>\n",
       "      <td>411</td>\n",
       "    </tr>\n",
       "    <tr>\n",
       "      <th>9510</th>\n",
       "      <td>pZnHE9LS8OBWenUrGOLgDA</td>\n",
       "      <td>Eden Nails &amp; Spa</td>\n",
       "      <td>Las Vegas</td>\n",
       "      <td>NV</td>\n",
       "      <td>89169</td>\n",
       "      <td>36.11811</td>\n",
       "      <td>-115.154223</td>\n",
       "      <td>213</td>\n",
       "      <td>Skin Care, Beauty &amp; Spas, Day Spas, Waxing, Na...</td>\n",
       "      <td>GRVgWIIg8t41FNhpdJ49eg</td>\n",
       "      <td>QzgzSxoADRr7NSFP5jDjtw</td>\n",
       "      <td>5.0</td>\n",
       "      <td>We were in for the NFR and needed a manicures;...</td>\n",
       "      <td>2017-12-18 16:49:27</td>\n",
       "      <td>41779</td>\n",
       "      <td>411</td>\n",
       "    </tr>\n",
       "  </tbody>\n",
       "</table>\n",
       "</div>"
      ],
      "text/plain": [
       "                 business_id              name       city state postal_code  \\\n",
       "9500  pZnHE9LS8OBWenUrGOLgDA  Eden Nails & Spa  Las Vegas    NV       89169   \n",
       "9503  pZnHE9LS8OBWenUrGOLgDA  Eden Nails & Spa  Las Vegas    NV       89169   \n",
       "9506  pZnHE9LS8OBWenUrGOLgDA  Eden Nails & Spa  Las Vegas    NV       89169   \n",
       "9509  pZnHE9LS8OBWenUrGOLgDA  Eden Nails & Spa  Las Vegas    NV       89169   \n",
       "9510  pZnHE9LS8OBWenUrGOLgDA  Eden Nails & Spa  Las Vegas    NV       89169   \n",
       "\n",
       "      latitude   longitude  review_count  \\\n",
       "9500  36.11811 -115.154223           213   \n",
       "9503  36.11811 -115.154223           213   \n",
       "9506  36.11811 -115.154223           213   \n",
       "9509  36.11811 -115.154223           213   \n",
       "9510  36.11811 -115.154223           213   \n",
       "\n",
       "                                             categories  \\\n",
       "9500  Skin Care, Beauty & Spas, Day Spas, Waxing, Na...   \n",
       "9503  Skin Care, Beauty & Spas, Day Spas, Waxing, Na...   \n",
       "9506  Skin Care, Beauty & Spas, Day Spas, Waxing, Na...   \n",
       "9509  Skin Care, Beauty & Spas, Day Spas, Waxing, Na...   \n",
       "9510  Skin Care, Beauty & Spas, Day Spas, Waxing, Na...   \n",
       "\n",
       "                   review_id                 user_id  rating  \\\n",
       "9500  kM7JE7lFSqNMRAkZV-pOhg  2CgLe_T0JLIhEGbg60ThEA     4.0   \n",
       "9503  52OLamIFpgyn-tB7MuNz-A  Oe4b9SDjQjhOApNZ5lCCTA     5.0   \n",
       "9506  k92IjnQwzpuX0H_MA34lIQ  t39INFyDMBKyHy9lWeLqMg     2.0   \n",
       "9509  saZTup1s3Z94CVgqdOBgEw  AiAOlN8oOvt4ZCGJ2ZRLDA     1.0   \n",
       "9510  GRVgWIIg8t41FNhpdJ49eg  QzgzSxoADRr7NSFP5jDjtw     5.0   \n",
       "\n",
       "                                                   text                 date  \\\n",
       "9500  Eden Nails & Spa has the biggest selection of ...  2017-06-07 00:03:20   \n",
       "9503  My laid friend had a pedicure and manicure don...  2016-08-25 21:23:52   \n",
       "9506  Went in to get a mani pedi (gel on the nail an...  2018-04-16 05:00:32   \n",
       "9509  I can still feel the hard dead skin on the sur...  2018-06-09 20:12:40   \n",
       "9510  We were in for the NFR and needed a manicures;...  2017-12-18 16:49:27   \n",
       "\n",
       "      user_id_index  business_id_index  \n",
       "9500           4795                411  \n",
       "9503          38318                411  \n",
       "9506          85042                411  \n",
       "9509          17598                411  \n",
       "9510          41779                411  "
      ]
     },
     "execution_count": 32,
     "metadata": {},
     "output_type": "execute_result"
    }
   ],
   "source": [
    "#visualizing the first 5 rows of the new dataframe\n",
    "nevada_df.head()"
   ]
  },
  {
   "attachments": {},
   "cell_type": "markdown",
   "metadata": {},
   "source": [
    "<b><span style='color:#F76241'>|</span> Handling Nevada Duplicates </b>"
   ]
  },
  {
   "cell_type": "code",
   "execution_count": 33,
   "metadata": {},
   "outputs": [
    {
     "name": "stdout",
     "output_type": "stream",
     "text": [
      "Number of duplicate rows = 5802\n"
     ]
    }
   ],
   "source": [
    "# Count and print the number of duplicates in the DataFrame based on the \"joke_id\", \"user_id_index\"\n",
    "duplicates = nevada_df.duplicated(subset=['user_id_index', 'business_id_index', 'rating'])\n",
    "print(f\"Number of duplicate rows = {duplicates.sum()}\")"
   ]
  },
  {
   "attachments": {},
   "cell_type": "markdown",
   "metadata": {},
   "source": [
    "Because the number of duplicates is greater than 0, we handle the duplicates by keeping only the first occurrence instead of dropping all of them so we don't loose too much useful information."
   ]
  },
  {
   "cell_type": "code",
   "execution_count": 34,
   "metadata": {},
   "outputs": [],
   "source": [
    "# drop duplicates and keep the first occurence\n",
    "nevada_df = nevada_df.drop_duplicates(subset=['user_id_index', 'business_id_index', 'rating'], keep='first')"
   ]
  },
  {
   "cell_type": "code",
   "execution_count": 35,
   "metadata": {},
   "outputs": [
    {
     "name": "stdout",
     "output_type": "stream",
     "text": [
      "Number of duplicate rows = 0\n"
     ]
    }
   ],
   "source": [
    "duplicates = nevada_df.duplicated(subset=['user_id_index', 'business_id_index', 'rating'])\n",
    "print(f\"Number of duplicate rows = {duplicates.sum()}\")"
   ]
  },
  {
   "cell_type": "code",
   "execution_count": 36,
   "metadata": {},
   "outputs": [
    {
     "data": {
      "text/html": [
       "<div>\n",
       "<style scoped>\n",
       "    .dataframe tbody tr th:only-of-type {\n",
       "        vertical-align: middle;\n",
       "    }\n",
       "\n",
       "    .dataframe tbody tr th {\n",
       "        vertical-align: top;\n",
       "    }\n",
       "\n",
       "    .dataframe thead th {\n",
       "        text-align: right;\n",
       "    }\n",
       "</style>\n",
       "<table border=\"1\" class=\"dataframe\">\n",
       "  <thead>\n",
       "    <tr style=\"text-align: right;\">\n",
       "      <th></th>\n",
       "      <th>user_id_index</th>\n",
       "      <th>name</th>\n",
       "      <th>business_id_index</th>\n",
       "      <th>rating</th>\n",
       "    </tr>\n",
       "  </thead>\n",
       "  <tbody>\n",
       "    <tr>\n",
       "      <th>9500</th>\n",
       "      <td>4795</td>\n",
       "      <td>Eden Nails &amp; Spa</td>\n",
       "      <td>411</td>\n",
       "      <td>4.0</td>\n",
       "    </tr>\n",
       "    <tr>\n",
       "      <th>9503</th>\n",
       "      <td>38318</td>\n",
       "      <td>Eden Nails &amp; Spa</td>\n",
       "      <td>411</td>\n",
       "      <td>5.0</td>\n",
       "    </tr>\n",
       "    <tr>\n",
       "      <th>9506</th>\n",
       "      <td>85042</td>\n",
       "      <td>Eden Nails &amp; Spa</td>\n",
       "      <td>411</td>\n",
       "      <td>2.0</td>\n",
       "    </tr>\n",
       "    <tr>\n",
       "      <th>9509</th>\n",
       "      <td>17598</td>\n",
       "      <td>Eden Nails &amp; Spa</td>\n",
       "      <td>411</td>\n",
       "      <td>1.0</td>\n",
       "    </tr>\n",
       "    <tr>\n",
       "      <th>9510</th>\n",
       "      <td>41779</td>\n",
       "      <td>Eden Nails &amp; Spa</td>\n",
       "      <td>411</td>\n",
       "      <td>5.0</td>\n",
       "    </tr>\n",
       "  </tbody>\n",
       "</table>\n",
       "</div>"
      ],
      "text/plain": [
       "      user_id_index              name  business_id_index  rating\n",
       "9500           4795  Eden Nails & Spa                411     4.0\n",
       "9503          38318  Eden Nails & Spa                411     5.0\n",
       "9506          85042  Eden Nails & Spa                411     2.0\n",
       "9509          17598  Eden Nails & Spa                411     1.0\n",
       "9510          41779  Eden Nails & Spa                411     5.0"
      ]
     },
     "execution_count": 36,
     "metadata": {},
     "output_type": "execute_result"
    }
   ],
   "source": [
    "#create a new dataframe with the columns 'user_id_index', 'business_id_index' and 'rating'\n",
    "nevada_filtered = nevada_df[['user_id_index', 'name', 'business_id_index', 'rating']]\n",
    "nevada_filtered.head()"
   ]
  },
  {
   "cell_type": "code",
   "execution_count": 37,
   "metadata": {},
   "outputs": [
    {
     "name": "stderr",
     "output_type": "stream",
     "text": [
      "C:\\Users\\User\\AppData\\Local\\Temp\\ipykernel_26772\\1463637918.py:2: SettingWithCopyWarning: \n",
      "A value is trying to be set on a copy of a slice from a DataFrame\n",
      "\n",
      "See the caveats in the documentation: https://pandas.pydata.org/pandas-docs/stable/user_guide/indexing.html#returning-a-view-versus-a-copy\n",
      "  nevada_filtered.rename(columns={'user_id_index': 'user_id', 'business_id_index': 'business_id', 'name': 'business_name'}, inplace=True)\n"
     ]
    }
   ],
   "source": [
    "#rename the user_id_index and business_id_index columns to user_id and business_id\n",
    "nevada_filtered.rename(columns={'user_id_index': 'user_id', 'business_id_index': 'business_id', 'name': 'business_name'}, inplace=True)"
   ]
  },
  {
   "cell_type": "code",
   "execution_count": 38,
   "metadata": {},
   "outputs": [
    {
     "data": {
      "text/plain": [
       "(210440, 4)"
      ]
     },
     "execution_count": 38,
     "metadata": {},
     "output_type": "execute_result"
    }
   ],
   "source": [
    "#checking the number of rows and columns in the new dataframe\n",
    "nevada_filtered.shape"
   ]
  },
  {
   "cell_type": "code",
   "execution_count": 39,
   "metadata": {},
   "outputs": [
    {
     "data": {
      "text/html": [
       "<div>\n",
       "<style scoped>\n",
       "    .dataframe tbody tr th:only-of-type {\n",
       "        vertical-align: middle;\n",
       "    }\n",
       "\n",
       "    .dataframe tbody tr th {\n",
       "        vertical-align: top;\n",
       "    }\n",
       "\n",
       "    .dataframe thead th {\n",
       "        text-align: right;\n",
       "    }\n",
       "</style>\n",
       "<table border=\"1\" class=\"dataframe\">\n",
       "  <thead>\n",
       "    <tr style=\"text-align: right;\">\n",
       "      <th></th>\n",
       "      <th>user_id</th>\n",
       "      <th>business_name</th>\n",
       "      <th>business_id</th>\n",
       "      <th>rating</th>\n",
       "    </tr>\n",
       "  </thead>\n",
       "  <tbody>\n",
       "    <tr>\n",
       "      <th>9500</th>\n",
       "      <td>4795</td>\n",
       "      <td>Eden Nails &amp; Spa</td>\n",
       "      <td>411</td>\n",
       "      <td>4.0</td>\n",
       "    </tr>\n",
       "    <tr>\n",
       "      <th>9503</th>\n",
       "      <td>38318</td>\n",
       "      <td>Eden Nails &amp; Spa</td>\n",
       "      <td>411</td>\n",
       "      <td>5.0</td>\n",
       "    </tr>\n",
       "    <tr>\n",
       "      <th>9506</th>\n",
       "      <td>85042</td>\n",
       "      <td>Eden Nails &amp; Spa</td>\n",
       "      <td>411</td>\n",
       "      <td>2.0</td>\n",
       "    </tr>\n",
       "    <tr>\n",
       "      <th>9509</th>\n",
       "      <td>17598</td>\n",
       "      <td>Eden Nails &amp; Spa</td>\n",
       "      <td>411</td>\n",
       "      <td>1.0</td>\n",
       "    </tr>\n",
       "    <tr>\n",
       "      <th>9510</th>\n",
       "      <td>41779</td>\n",
       "      <td>Eden Nails &amp; Spa</td>\n",
       "      <td>411</td>\n",
       "      <td>5.0</td>\n",
       "    </tr>\n",
       "  </tbody>\n",
       "</table>\n",
       "</div>"
      ],
      "text/plain": [
       "      user_id     business_name  business_id  rating\n",
       "9500     4795  Eden Nails & Spa          411     4.0\n",
       "9503    38318  Eden Nails & Spa          411     5.0\n",
       "9506    85042  Eden Nails & Spa          411     2.0\n",
       "9509    17598  Eden Nails & Spa          411     1.0\n",
       "9510    41779  Eden Nails & Spa          411     5.0"
      ]
     },
     "execution_count": 39,
     "metadata": {},
     "output_type": "execute_result"
    }
   ],
   "source": [
    "#visualizing the first 5 rows of the new dataframe\n",
    "nevada_filtered.head()"
   ]
  },
  {
   "cell_type": "code",
   "execution_count": 40,
   "metadata": {},
   "outputs": [
    {
     "data": {
      "text/plain": [
       "500"
      ]
     },
     "execution_count": 40,
     "metadata": {},
     "output_type": "execute_result"
    }
   ],
   "source": [
    "#checking the number of unique business_ids in the dataset\n",
    "nevada_filtered['business_id'].nunique()"
   ]
  },
  {
   "cell_type": "code",
   "execution_count": 41,
   "metadata": {},
   "outputs": [],
   "source": [
    "# Split the dataset into train and test sets\n",
    "nevada_train_val, nevada_test = train_test_split(nevada_filtered, test_size=0.2, shuffle=False)\n",
    "#spliting the train data into train and validation sets\n",
    "nevada_train, nevada_val = train_test_split(nevada_train_val, test_size=0.2, shuffle=False)"
   ]
  },
  {
   "cell_type": "code",
   "execution_count": 42,
   "metadata": {},
   "outputs": [],
   "source": [
    "#create a pivot table for the nevada dataset\n",
    "nevada_pivot = nevada_filtered.pivot_table(index='user_id', columns='business_id', values='rating').fillna(0)"
   ]
  },
  {
   "cell_type": "code",
   "execution_count": 43,
   "metadata": {},
   "outputs": [
    {
     "data": {
      "text/html": [
       "<div>\n",
       "<style scoped>\n",
       "    .dataframe tbody tr th:only-of-type {\n",
       "        vertical-align: middle;\n",
       "    }\n",
       "\n",
       "    .dataframe tbody tr th {\n",
       "        vertical-align: top;\n",
       "    }\n",
       "\n",
       "    .dataframe thead th {\n",
       "        text-align: right;\n",
       "    }\n",
       "</style>\n",
       "<table border=\"1\" class=\"dataframe\">\n",
       "  <thead>\n",
       "    <tr style=\"text-align: right;\">\n",
       "      <th>business_id</th>\n",
       "      <th>0</th>\n",
       "      <th>1</th>\n",
       "      <th>2</th>\n",
       "      <th>3</th>\n",
       "      <th>4</th>\n",
       "      <th>5</th>\n",
       "      <th>6</th>\n",
       "      <th>7</th>\n",
       "      <th>8</th>\n",
       "      <th>9</th>\n",
       "      <th>...</th>\n",
       "      <th>490</th>\n",
       "      <th>491</th>\n",
       "      <th>492</th>\n",
       "      <th>493</th>\n",
       "      <th>494</th>\n",
       "      <th>495</th>\n",
       "      <th>496</th>\n",
       "      <th>497</th>\n",
       "      <th>498</th>\n",
       "      <th>499</th>\n",
       "    </tr>\n",
       "    <tr>\n",
       "      <th>user_id</th>\n",
       "      <th></th>\n",
       "      <th></th>\n",
       "      <th></th>\n",
       "      <th></th>\n",
       "      <th></th>\n",
       "      <th></th>\n",
       "      <th></th>\n",
       "      <th></th>\n",
       "      <th></th>\n",
       "      <th></th>\n",
       "      <th></th>\n",
       "      <th></th>\n",
       "      <th></th>\n",
       "      <th></th>\n",
       "      <th></th>\n",
       "      <th></th>\n",
       "      <th></th>\n",
       "      <th></th>\n",
       "      <th></th>\n",
       "      <th></th>\n",
       "      <th></th>\n",
       "    </tr>\n",
       "  </thead>\n",
       "  <tbody>\n",
       "    <tr>\n",
       "      <th>0</th>\n",
       "      <td>4.0</td>\n",
       "      <td>0.0</td>\n",
       "      <td>0.0</td>\n",
       "      <td>0.0</td>\n",
       "      <td>0.0</td>\n",
       "      <td>0.0</td>\n",
       "      <td>0.0</td>\n",
       "      <td>0.0</td>\n",
       "      <td>0.0</td>\n",
       "      <td>0.0</td>\n",
       "      <td>...</td>\n",
       "      <td>0.0</td>\n",
       "      <td>0.0</td>\n",
       "      <td>0.0</td>\n",
       "      <td>0.0</td>\n",
       "      <td>0.0</td>\n",
       "      <td>0.0</td>\n",
       "      <td>0.0</td>\n",
       "      <td>0.0</td>\n",
       "      <td>0.0</td>\n",
       "      <td>0.0</td>\n",
       "    </tr>\n",
       "    <tr>\n",
       "      <th>1</th>\n",
       "      <td>0.0</td>\n",
       "      <td>0.0</td>\n",
       "      <td>0.0</td>\n",
       "      <td>0.0</td>\n",
       "      <td>0.0</td>\n",
       "      <td>0.0</td>\n",
       "      <td>0.0</td>\n",
       "      <td>0.0</td>\n",
       "      <td>0.0</td>\n",
       "      <td>0.0</td>\n",
       "      <td>...</td>\n",
       "      <td>0.0</td>\n",
       "      <td>0.0</td>\n",
       "      <td>0.0</td>\n",
       "      <td>0.0</td>\n",
       "      <td>0.0</td>\n",
       "      <td>0.0</td>\n",
       "      <td>0.0</td>\n",
       "      <td>0.0</td>\n",
       "      <td>0.0</td>\n",
       "      <td>0.0</td>\n",
       "    </tr>\n",
       "    <tr>\n",
       "      <th>2</th>\n",
       "      <td>0.0</td>\n",
       "      <td>0.0</td>\n",
       "      <td>0.0</td>\n",
       "      <td>0.0</td>\n",
       "      <td>0.0</td>\n",
       "      <td>0.0</td>\n",
       "      <td>0.0</td>\n",
       "      <td>0.0</td>\n",
       "      <td>0.0</td>\n",
       "      <td>0.0</td>\n",
       "      <td>...</td>\n",
       "      <td>0.0</td>\n",
       "      <td>0.0</td>\n",
       "      <td>0.0</td>\n",
       "      <td>0.0</td>\n",
       "      <td>0.0</td>\n",
       "      <td>0.0</td>\n",
       "      <td>0.0</td>\n",
       "      <td>0.0</td>\n",
       "      <td>0.0</td>\n",
       "      <td>0.0</td>\n",
       "    </tr>\n",
       "    <tr>\n",
       "      <th>3</th>\n",
       "      <td>0.0</td>\n",
       "      <td>0.0</td>\n",
       "      <td>0.0</td>\n",
       "      <td>0.0</td>\n",
       "      <td>0.0</td>\n",
       "      <td>0.0</td>\n",
       "      <td>0.0</td>\n",
       "      <td>0.0</td>\n",
       "      <td>0.0</td>\n",
       "      <td>0.0</td>\n",
       "      <td>...</td>\n",
       "      <td>0.0</td>\n",
       "      <td>0.0</td>\n",
       "      <td>0.0</td>\n",
       "      <td>0.0</td>\n",
       "      <td>0.0</td>\n",
       "      <td>0.0</td>\n",
       "      <td>0.0</td>\n",
       "      <td>0.0</td>\n",
       "      <td>0.0</td>\n",
       "      <td>0.0</td>\n",
       "    </tr>\n",
       "    <tr>\n",
       "      <th>4</th>\n",
       "      <td>0.0</td>\n",
       "      <td>0.0</td>\n",
       "      <td>0.0</td>\n",
       "      <td>0.0</td>\n",
       "      <td>0.0</td>\n",
       "      <td>0.0</td>\n",
       "      <td>0.0</td>\n",
       "      <td>0.0</td>\n",
       "      <td>0.0</td>\n",
       "      <td>0.0</td>\n",
       "      <td>...</td>\n",
       "      <td>0.0</td>\n",
       "      <td>0.0</td>\n",
       "      <td>0.0</td>\n",
       "      <td>0.0</td>\n",
       "      <td>0.0</td>\n",
       "      <td>0.0</td>\n",
       "      <td>0.0</td>\n",
       "      <td>0.0</td>\n",
       "      <td>0.0</td>\n",
       "      <td>0.0</td>\n",
       "    </tr>\n",
       "  </tbody>\n",
       "</table>\n",
       "<p>5 rows × 500 columns</p>\n",
       "</div>"
      ],
      "text/plain": [
       "business_id  0    1    2    3    4    5    6    7    8    9    ...  490  491  \\\n",
       "user_id                                                        ...             \n",
       "0            4.0  0.0  0.0  0.0  0.0  0.0  0.0  0.0  0.0  0.0  ...  0.0  0.0   \n",
       "1            0.0  0.0  0.0  0.0  0.0  0.0  0.0  0.0  0.0  0.0  ...  0.0  0.0   \n",
       "2            0.0  0.0  0.0  0.0  0.0  0.0  0.0  0.0  0.0  0.0  ...  0.0  0.0   \n",
       "3            0.0  0.0  0.0  0.0  0.0  0.0  0.0  0.0  0.0  0.0  ...  0.0  0.0   \n",
       "4            0.0  0.0  0.0  0.0  0.0  0.0  0.0  0.0  0.0  0.0  ...  0.0  0.0   \n",
       "\n",
       "business_id  492  493  494  495  496  497  498  499  \n",
       "user_id                                              \n",
       "0            0.0  0.0  0.0  0.0  0.0  0.0  0.0  0.0  \n",
       "1            0.0  0.0  0.0  0.0  0.0  0.0  0.0  0.0  \n",
       "2            0.0  0.0  0.0  0.0  0.0  0.0  0.0  0.0  \n",
       "3            0.0  0.0  0.0  0.0  0.0  0.0  0.0  0.0  \n",
       "4            0.0  0.0  0.0  0.0  0.0  0.0  0.0  0.0  \n",
       "\n",
       "[5 rows x 500 columns]"
      ]
     },
     "execution_count": 43,
     "metadata": {},
     "output_type": "execute_result"
    }
   ],
   "source": [
    "nevada_pivot.head()"
   ]
  },
  {
   "cell_type": "code",
   "execution_count": 44,
   "metadata": {},
   "outputs": [],
   "source": [
    "#split the pivot table into train and test sets\n",
    "nevada_pivot_train_val, nevada_pivot_test = train_test_split(nevada_pivot, test_size=0.2, shuffle=False)\n",
    "#spliting the train data into train and validation sets\n",
    "nevada_pivot_train, nevada_pivot_val = train_test_split(nevada_pivot_train_val, test_size=0.2, shuffle=False)"
   ]
  },
  {
   "cell_type": "code",
   "execution_count": 45,
   "metadata": {},
   "outputs": [
    {
     "data": {
      "text/html": [
       "<div>\n",
       "<style scoped>\n",
       "    .dataframe tbody tr th:only-of-type {\n",
       "        vertical-align: middle;\n",
       "    }\n",
       "\n",
       "    .dataframe tbody tr th {\n",
       "        vertical-align: top;\n",
       "    }\n",
       "\n",
       "    .dataframe thead th {\n",
       "        text-align: right;\n",
       "    }\n",
       "</style>\n",
       "<table border=\"1\" class=\"dataframe\">\n",
       "  <thead>\n",
       "    <tr style=\"text-align: right;\">\n",
       "      <th>business_id</th>\n",
       "      <th>0</th>\n",
       "      <th>1</th>\n",
       "      <th>2</th>\n",
       "      <th>3</th>\n",
       "      <th>4</th>\n",
       "      <th>5</th>\n",
       "      <th>6</th>\n",
       "      <th>7</th>\n",
       "      <th>8</th>\n",
       "      <th>9</th>\n",
       "      <th>...</th>\n",
       "      <th>490</th>\n",
       "      <th>491</th>\n",
       "      <th>492</th>\n",
       "      <th>493</th>\n",
       "      <th>494</th>\n",
       "      <th>495</th>\n",
       "      <th>496</th>\n",
       "      <th>497</th>\n",
       "      <th>498</th>\n",
       "      <th>499</th>\n",
       "    </tr>\n",
       "    <tr>\n",
       "      <th>user_id</th>\n",
       "      <th></th>\n",
       "      <th></th>\n",
       "      <th></th>\n",
       "      <th></th>\n",
       "      <th></th>\n",
       "      <th></th>\n",
       "      <th></th>\n",
       "      <th></th>\n",
       "      <th></th>\n",
       "      <th></th>\n",
       "      <th></th>\n",
       "      <th></th>\n",
       "      <th></th>\n",
       "      <th></th>\n",
       "      <th></th>\n",
       "      <th></th>\n",
       "      <th></th>\n",
       "      <th></th>\n",
       "      <th></th>\n",
       "      <th></th>\n",
       "      <th></th>\n",
       "    </tr>\n",
       "  </thead>\n",
       "  <tbody>\n",
       "    <tr>\n",
       "      <th>0</th>\n",
       "      <td>4.0</td>\n",
       "      <td>0.0</td>\n",
       "      <td>0.0</td>\n",
       "      <td>0.0</td>\n",
       "      <td>0.0</td>\n",
       "      <td>0.0</td>\n",
       "      <td>0.0</td>\n",
       "      <td>0.0</td>\n",
       "      <td>0.0</td>\n",
       "      <td>0.0</td>\n",
       "      <td>...</td>\n",
       "      <td>0.0</td>\n",
       "      <td>0.0</td>\n",
       "      <td>0.0</td>\n",
       "      <td>0.0</td>\n",
       "      <td>0.0</td>\n",
       "      <td>0.0</td>\n",
       "      <td>0.0</td>\n",
       "      <td>0.0</td>\n",
       "      <td>0.0</td>\n",
       "      <td>0.0</td>\n",
       "    </tr>\n",
       "    <tr>\n",
       "      <th>1</th>\n",
       "      <td>0.0</td>\n",
       "      <td>0.0</td>\n",
       "      <td>0.0</td>\n",
       "      <td>0.0</td>\n",
       "      <td>0.0</td>\n",
       "      <td>0.0</td>\n",
       "      <td>0.0</td>\n",
       "      <td>0.0</td>\n",
       "      <td>0.0</td>\n",
       "      <td>0.0</td>\n",
       "      <td>...</td>\n",
       "      <td>0.0</td>\n",
       "      <td>0.0</td>\n",
       "      <td>0.0</td>\n",
       "      <td>0.0</td>\n",
       "      <td>0.0</td>\n",
       "      <td>0.0</td>\n",
       "      <td>0.0</td>\n",
       "      <td>0.0</td>\n",
       "      <td>0.0</td>\n",
       "      <td>0.0</td>\n",
       "    </tr>\n",
       "    <tr>\n",
       "      <th>2</th>\n",
       "      <td>0.0</td>\n",
       "      <td>0.0</td>\n",
       "      <td>0.0</td>\n",
       "      <td>0.0</td>\n",
       "      <td>0.0</td>\n",
       "      <td>0.0</td>\n",
       "      <td>0.0</td>\n",
       "      <td>0.0</td>\n",
       "      <td>0.0</td>\n",
       "      <td>0.0</td>\n",
       "      <td>...</td>\n",
       "      <td>0.0</td>\n",
       "      <td>0.0</td>\n",
       "      <td>0.0</td>\n",
       "      <td>0.0</td>\n",
       "      <td>0.0</td>\n",
       "      <td>0.0</td>\n",
       "      <td>0.0</td>\n",
       "      <td>0.0</td>\n",
       "      <td>0.0</td>\n",
       "      <td>0.0</td>\n",
       "    </tr>\n",
       "    <tr>\n",
       "      <th>3</th>\n",
       "      <td>0.0</td>\n",
       "      <td>0.0</td>\n",
       "      <td>0.0</td>\n",
       "      <td>0.0</td>\n",
       "      <td>0.0</td>\n",
       "      <td>0.0</td>\n",
       "      <td>0.0</td>\n",
       "      <td>0.0</td>\n",
       "      <td>0.0</td>\n",
       "      <td>0.0</td>\n",
       "      <td>...</td>\n",
       "      <td>0.0</td>\n",
       "      <td>0.0</td>\n",
       "      <td>0.0</td>\n",
       "      <td>0.0</td>\n",
       "      <td>0.0</td>\n",
       "      <td>0.0</td>\n",
       "      <td>0.0</td>\n",
       "      <td>0.0</td>\n",
       "      <td>0.0</td>\n",
       "      <td>0.0</td>\n",
       "    </tr>\n",
       "    <tr>\n",
       "      <th>4</th>\n",
       "      <td>0.0</td>\n",
       "      <td>0.0</td>\n",
       "      <td>0.0</td>\n",
       "      <td>0.0</td>\n",
       "      <td>0.0</td>\n",
       "      <td>0.0</td>\n",
       "      <td>0.0</td>\n",
       "      <td>0.0</td>\n",
       "      <td>0.0</td>\n",
       "      <td>0.0</td>\n",
       "      <td>...</td>\n",
       "      <td>0.0</td>\n",
       "      <td>0.0</td>\n",
       "      <td>0.0</td>\n",
       "      <td>0.0</td>\n",
       "      <td>0.0</td>\n",
       "      <td>0.0</td>\n",
       "      <td>0.0</td>\n",
       "      <td>0.0</td>\n",
       "      <td>0.0</td>\n",
       "      <td>0.0</td>\n",
       "    </tr>\n",
       "  </tbody>\n",
       "</table>\n",
       "<p>5 rows × 500 columns</p>\n",
       "</div>"
      ],
      "text/plain": [
       "business_id  0    1    2    3    4    5    6    7    8    9    ...  490  491  \\\n",
       "user_id                                                        ...             \n",
       "0            4.0  0.0  0.0  0.0  0.0  0.0  0.0  0.0  0.0  0.0  ...  0.0  0.0   \n",
       "1            0.0  0.0  0.0  0.0  0.0  0.0  0.0  0.0  0.0  0.0  ...  0.0  0.0   \n",
       "2            0.0  0.0  0.0  0.0  0.0  0.0  0.0  0.0  0.0  0.0  ...  0.0  0.0   \n",
       "3            0.0  0.0  0.0  0.0  0.0  0.0  0.0  0.0  0.0  0.0  ...  0.0  0.0   \n",
       "4            0.0  0.0  0.0  0.0  0.0  0.0  0.0  0.0  0.0  0.0  ...  0.0  0.0   \n",
       "\n",
       "business_id  492  493  494  495  496  497  498  499  \n",
       "user_id                                              \n",
       "0            0.0  0.0  0.0  0.0  0.0  0.0  0.0  0.0  \n",
       "1            0.0  0.0  0.0  0.0  0.0  0.0  0.0  0.0  \n",
       "2            0.0  0.0  0.0  0.0  0.0  0.0  0.0  0.0  \n",
       "3            0.0  0.0  0.0  0.0  0.0  0.0  0.0  0.0  \n",
       "4            0.0  0.0  0.0  0.0  0.0  0.0  0.0  0.0  \n",
       "\n",
       "[5 rows x 500 columns]"
      ]
     },
     "execution_count": 45,
     "metadata": {},
     "output_type": "execute_result"
    }
   ],
   "source": [
    "# Visualise the sparsity of the train set\n",
    "nevada_pivot_train.head()"
   ]
  },
  {
   "cell_type": "code",
   "execution_count": 46,
   "metadata": {},
   "outputs": [],
   "source": [
    "# Preprocess the data into a sparse matrix format\n",
    "nevada_train_matrix = csr_matrix(nevada_pivot_train.values)\n",
    "nevada_val_matrix = csr_matrix(nevada_pivot_val.values)\n",
    "nevada_test_matrix = csr_matrix(nevada_pivot_test.values)"
   ]
  },
  {
   "cell_type": "code",
   "execution_count": 47,
   "metadata": {},
   "outputs": [
    {
     "data": {
      "text/plain": [
       "(61021, 500)"
      ]
     },
     "execution_count": 47,
     "metadata": {},
     "output_type": "execute_result"
    }
   ],
   "source": [
    "#check the shape of the train matrix\n",
    "nevada_train_matrix.shape"
   ]
  },
  {
   "attachments": {},
   "cell_type": "markdown",
   "metadata": {},
   "source": [
    "<b>4.2 <span style='color:#F76241'>|</span>ARIZONA DATA PREPARATION.</b>"
   ]
  },
  {
   "cell_type": "code",
   "execution_count": 48,
   "metadata": {},
   "outputs": [
    {
     "name": "stderr",
     "output_type": "stream",
     "text": [
      "C:\\Users\\User\\AppData\\Local\\Temp\\ipykernel_26772\\632161600.py:2: SettingWithCopyWarning: \n",
      "A value is trying to be set on a copy of a slice from a DataFrame.\n",
      "Try using .loc[row_indexer,col_indexer] = value instead\n",
      "\n",
      "See the caveats in the documentation: https://pandas.pydata.org/pandas-docs/stable/user_guide/indexing.html#returning-a-view-versus-a-copy\n",
      "  arizona_df['user_id_index'] = arizona_df.groupby('user_id').ngroup()\n",
      "C:\\Users\\User\\AppData\\Local\\Temp\\ipykernel_26772\\632161600.py:5: SettingWithCopyWarning: \n",
      "A value is trying to be set on a copy of a slice from a DataFrame.\n",
      "Try using .loc[row_indexer,col_indexer] = value instead\n",
      "\n",
      "See the caveats in the documentation: https://pandas.pydata.org/pandas-docs/stable/user_guide/indexing.html#returning-a-view-versus-a-copy\n",
      "  arizona_df['business_id_index'] = arizona_df.groupby('business_id').ngroup()\n",
      "C:\\Users\\User\\AppData\\Local\\Temp\\ipykernel_26772\\632161600.py:8: SettingWithCopyWarning: \n",
      "A value is trying to be set on a copy of a slice from a DataFrame\n",
      "\n",
      "See the caveats in the documentation: https://pandas.pydata.org/pandas-docs/stable/user_guide/indexing.html#returning-a-view-versus-a-copy\n",
      "  arizona_df.rename(columns={'stars_y': 'rating'}, inplace=True)\n"
     ]
    }
   ],
   "source": [
    "#create a new column called \"user_id_index\" and assign a unique integer value to each user_id in the dataset.\n",
    "arizona_df['user_id_index'] = arizona_df.groupby('user_id').ngroup()\n",
    "\n",
    "#create a new column called \"business_id_index\" and assign a unique integer value to each business_id in the dataset.\n",
    "arizona_df['business_id_index'] = arizona_df.groupby('business_id').ngroup()\n",
    "\n",
    "#rename the 'stars_y' column to 'rating'\n",
    "arizona_df.rename(columns={'stars_y': 'rating'}, inplace=True)"
   ]
  },
  {
   "attachments": {},
   "cell_type": "markdown",
   "metadata": {},
   "source": [
    "<b><span style='color:#F76241'>|</span> Handling Arizona Duplicates </b>"
   ]
  },
  {
   "cell_type": "code",
   "execution_count": 49,
   "metadata": {},
   "outputs": [
    {
     "name": "stdout",
     "output_type": "stream",
     "text": [
      "Number of duplicate rows = 4637\n"
     ]
    }
   ],
   "source": [
    "# Count and print the number of duplicates in the DataFrame based on the \"business_id_index\", \"user_id_index\"\n",
    "duplicates = arizona_df.duplicated(subset=['user_id_index', 'business_id_index', 'rating'])\n",
    "print(f\"Number of duplicate rows = {duplicates.sum()}\")"
   ]
  },
  {
   "attachments": {},
   "cell_type": "markdown",
   "metadata": {},
   "source": [
    "Because the number of duplicates is greater than 0, we handle the duplicates by keeping only the first occurrence instead of dropping all of them so we don't loose too much useful information."
   ]
  },
  {
   "cell_type": "code",
   "execution_count": 50,
   "metadata": {},
   "outputs": [],
   "source": [
    "# Drop duplicates and keep the first occurence\n",
    "arizona_df = arizona_df.drop_duplicates(subset=['user_id_index', 'business_id_index', 'rating'], keep='first')"
   ]
  },
  {
   "cell_type": "code",
   "execution_count": 51,
   "metadata": {},
   "outputs": [
    {
     "data": {
      "text/html": [
       "<div>\n",
       "<style scoped>\n",
       "    .dataframe tbody tr th:only-of-type {\n",
       "        vertical-align: middle;\n",
       "    }\n",
       "\n",
       "    .dataframe tbody tr th {\n",
       "        vertical-align: top;\n",
       "    }\n",
       "\n",
       "    .dataframe thead th {\n",
       "        text-align: right;\n",
       "    }\n",
       "</style>\n",
       "<table border=\"1\" class=\"dataframe\">\n",
       "  <thead>\n",
       "    <tr style=\"text-align: right;\">\n",
       "      <th></th>\n",
       "      <th>user_id_index</th>\n",
       "      <th>name</th>\n",
       "      <th>business_id_index</th>\n",
       "      <th>rating</th>\n",
       "    </tr>\n",
       "  </thead>\n",
       "  <tbody>\n",
       "    <tr>\n",
       "      <th>27090</th>\n",
       "      <td>58582</td>\n",
       "      <td>Oregano's Pizza Bistro</td>\n",
       "      <td>446</td>\n",
       "      <td>5.0</td>\n",
       "    </tr>\n",
       "    <tr>\n",
       "      <th>27091</th>\n",
       "      <td>24377</td>\n",
       "      <td>Oregano's Pizza Bistro</td>\n",
       "      <td>446</td>\n",
       "      <td>5.0</td>\n",
       "    </tr>\n",
       "    <tr>\n",
       "      <th>27092</th>\n",
       "      <td>4556</td>\n",
       "      <td>Oregano's Pizza Bistro</td>\n",
       "      <td>446</td>\n",
       "      <td>4.0</td>\n",
       "    </tr>\n",
       "    <tr>\n",
       "      <th>27094</th>\n",
       "      <td>56243</td>\n",
       "      <td>Oregano's Pizza Bistro</td>\n",
       "      <td>446</td>\n",
       "      <td>2.0</td>\n",
       "    </tr>\n",
       "    <tr>\n",
       "      <th>27096</th>\n",
       "      <td>45657</td>\n",
       "      <td>Oregano's Pizza Bistro</td>\n",
       "      <td>446</td>\n",
       "      <td>5.0</td>\n",
       "    </tr>\n",
       "  </tbody>\n",
       "</table>\n",
       "</div>"
      ],
      "text/plain": [
       "       user_id_index                    name  business_id_index  rating\n",
       "27090          58582  Oregano's Pizza Bistro                446     5.0\n",
       "27091          24377  Oregano's Pizza Bistro                446     5.0\n",
       "27092           4556  Oregano's Pizza Bistro                446     4.0\n",
       "27094          56243  Oregano's Pizza Bistro                446     2.0\n",
       "27096          45657  Oregano's Pizza Bistro                446     5.0"
      ]
     },
     "execution_count": 51,
     "metadata": {},
     "output_type": "execute_result"
    }
   ],
   "source": [
    "#create a new dataframe with the columns 'user_id_index', 'business_id_index' and 'rating'\n",
    "arizona_filtered = arizona_df[['user_id_index', 'name', 'business_id_index', 'rating']]\n",
    "arizona_filtered.head()"
   ]
  },
  {
   "cell_type": "code",
   "execution_count": 52,
   "metadata": {},
   "outputs": [
    {
     "name": "stderr",
     "output_type": "stream",
     "text": [
      "C:\\Users\\User\\AppData\\Local\\Temp\\ipykernel_26772\\148295134.py:2: SettingWithCopyWarning: \n",
      "A value is trying to be set on a copy of a slice from a DataFrame\n",
      "\n",
      "See the caveats in the documentation: https://pandas.pydata.org/pandas-docs/stable/user_guide/indexing.html#returning-a-view-versus-a-copy\n",
      "  arizona_filtered.rename(columns={'user_id_index': 'user_id', 'business_id_index': 'business_id', 'name': 'business_name'}, inplace=True)\n"
     ]
    }
   ],
   "source": [
    "#rename the user_id_index and business_id_index columns to user_id and business_id\n",
    "arizona_filtered.rename(columns={'user_id_index': 'user_id', 'business_id_index': 'business_id', 'name': 'business_name'}, inplace=True)"
   ]
  },
  {
   "cell_type": "code",
   "execution_count": 53,
   "metadata": {},
   "outputs": [
    {
     "name": "stdout",
     "output_type": "stream",
     "text": [
      "Train set has 102353 rows and 4 columns\n",
      "Validation set has 25589 rows and 4 columns\n",
      "Test set has 31986 rows and 4 columns\n"
     ]
    }
   ],
   "source": [
    "# Split the dataset into train and test sets\n",
    "arizona_train_val, arizona_test = train_test_split(arizona_filtered, test_size=0.2, shuffle=False)\n",
    "#spliting the train data into train and validation sets\n",
    "arizona_train, arizona_val = train_test_split(arizona_train_val, test_size=0.2, shuffle=False)\n",
    "#Checking the shape of the train, validation and test sets\n",
    "print('Train set has {} rows and {} columns'.format(arizona_train.shape[0], arizona_train.shape[1]))\n",
    "print('Validation set has {} rows and {} columns'.format(arizona_val.shape[0], arizona_val.shape[1]))\n",
    "print('Test set has {} rows and {} columns'.format(arizona_test.shape[0], arizona_test.shape[1]))\n"
   ]
  },
  {
   "cell_type": "code",
   "execution_count": 54,
   "metadata": {},
   "outputs": [],
   "source": [
    "#create a pivot table for the Arizona dataset\n",
    "arizona_pivot = arizona_filtered.pivot_table(index='user_id', columns='business_id', values='rating').fillna(0)"
   ]
  },
  {
   "cell_type": "code",
   "execution_count": 55,
   "metadata": {},
   "outputs": [],
   "source": [
    "#split the pivot table into train and test sets\n",
    "arizona_pivot_train_val, arizona_pivot_test = train_test_split(arizona_pivot, test_size=0.2, shuffle=False)\n",
    "#spliting the train data into train and validation sets\n",
    "arizona_pivot_train, arizona_pivot_val = train_test_split(arizona_pivot_train_val, test_size=0.2, shuffle=False)"
   ]
  },
  {
   "cell_type": "code",
   "execution_count": 56,
   "metadata": {},
   "outputs": [
    {
     "data": {
      "text/html": [
       "<div>\n",
       "<style scoped>\n",
       "    .dataframe tbody tr th:only-of-type {\n",
       "        vertical-align: middle;\n",
       "    }\n",
       "\n",
       "    .dataframe tbody tr th {\n",
       "        vertical-align: top;\n",
       "    }\n",
       "\n",
       "    .dataframe thead th {\n",
       "        text-align: right;\n",
       "    }\n",
       "</style>\n",
       "<table border=\"1\" class=\"dataframe\">\n",
       "  <thead>\n",
       "    <tr style=\"text-align: right;\">\n",
       "      <th>business_id</th>\n",
       "      <th>0</th>\n",
       "      <th>1</th>\n",
       "      <th>2</th>\n",
       "      <th>3</th>\n",
       "      <th>4</th>\n",
       "      <th>5</th>\n",
       "      <th>6</th>\n",
       "      <th>7</th>\n",
       "      <th>8</th>\n",
       "      <th>9</th>\n",
       "      <th>...</th>\n",
       "      <th>490</th>\n",
       "      <th>491</th>\n",
       "      <th>492</th>\n",
       "      <th>493</th>\n",
       "      <th>494</th>\n",
       "      <th>495</th>\n",
       "      <th>496</th>\n",
       "      <th>497</th>\n",
       "      <th>498</th>\n",
       "      <th>499</th>\n",
       "    </tr>\n",
       "    <tr>\n",
       "      <th>user_id</th>\n",
       "      <th></th>\n",
       "      <th></th>\n",
       "      <th></th>\n",
       "      <th></th>\n",
       "      <th></th>\n",
       "      <th></th>\n",
       "      <th></th>\n",
       "      <th></th>\n",
       "      <th></th>\n",
       "      <th></th>\n",
       "      <th></th>\n",
       "      <th></th>\n",
       "      <th></th>\n",
       "      <th></th>\n",
       "      <th></th>\n",
       "      <th></th>\n",
       "      <th></th>\n",
       "      <th></th>\n",
       "      <th></th>\n",
       "      <th></th>\n",
       "      <th></th>\n",
       "    </tr>\n",
       "  </thead>\n",
       "  <tbody>\n",
       "    <tr>\n",
       "      <th>0</th>\n",
       "      <td>0.0</td>\n",
       "      <td>0.0</td>\n",
       "      <td>0.0</td>\n",
       "      <td>0.0</td>\n",
       "      <td>0.0</td>\n",
       "      <td>0.0</td>\n",
       "      <td>0.0</td>\n",
       "      <td>0.0</td>\n",
       "      <td>0.0</td>\n",
       "      <td>0.0</td>\n",
       "      <td>...</td>\n",
       "      <td>0.0</td>\n",
       "      <td>0.0</td>\n",
       "      <td>0.0</td>\n",
       "      <td>0.0</td>\n",
       "      <td>0.0</td>\n",
       "      <td>0.0</td>\n",
       "      <td>0.0</td>\n",
       "      <td>0.0</td>\n",
       "      <td>5.0</td>\n",
       "      <td>0.0</td>\n",
       "    </tr>\n",
       "    <tr>\n",
       "      <th>1</th>\n",
       "      <td>0.0</td>\n",
       "      <td>0.0</td>\n",
       "      <td>0.0</td>\n",
       "      <td>0.0</td>\n",
       "      <td>0.0</td>\n",
       "      <td>0.0</td>\n",
       "      <td>0.0</td>\n",
       "      <td>0.0</td>\n",
       "      <td>0.0</td>\n",
       "      <td>0.0</td>\n",
       "      <td>...</td>\n",
       "      <td>0.0</td>\n",
       "      <td>0.0</td>\n",
       "      <td>0.0</td>\n",
       "      <td>0.0</td>\n",
       "      <td>0.0</td>\n",
       "      <td>0.0</td>\n",
       "      <td>0.0</td>\n",
       "      <td>0.0</td>\n",
       "      <td>0.0</td>\n",
       "      <td>0.0</td>\n",
       "    </tr>\n",
       "    <tr>\n",
       "      <th>2</th>\n",
       "      <td>0.0</td>\n",
       "      <td>0.0</td>\n",
       "      <td>0.0</td>\n",
       "      <td>0.0</td>\n",
       "      <td>0.0</td>\n",
       "      <td>0.0</td>\n",
       "      <td>0.0</td>\n",
       "      <td>0.0</td>\n",
       "      <td>0.0</td>\n",
       "      <td>0.0</td>\n",
       "      <td>...</td>\n",
       "      <td>4.0</td>\n",
       "      <td>0.0</td>\n",
       "      <td>0.0</td>\n",
       "      <td>0.0</td>\n",
       "      <td>0.0</td>\n",
       "      <td>0.0</td>\n",
       "      <td>0.0</td>\n",
       "      <td>0.0</td>\n",
       "      <td>0.0</td>\n",
       "      <td>0.0</td>\n",
       "    </tr>\n",
       "    <tr>\n",
       "      <th>3</th>\n",
       "      <td>0.0</td>\n",
       "      <td>0.0</td>\n",
       "      <td>0.0</td>\n",
       "      <td>0.0</td>\n",
       "      <td>0.0</td>\n",
       "      <td>0.0</td>\n",
       "      <td>0.0</td>\n",
       "      <td>0.0</td>\n",
       "      <td>0.0</td>\n",
       "      <td>0.0</td>\n",
       "      <td>...</td>\n",
       "      <td>0.0</td>\n",
       "      <td>0.0</td>\n",
       "      <td>0.0</td>\n",
       "      <td>0.0</td>\n",
       "      <td>0.0</td>\n",
       "      <td>0.0</td>\n",
       "      <td>0.0</td>\n",
       "      <td>0.0</td>\n",
       "      <td>0.0</td>\n",
       "      <td>0.0</td>\n",
       "    </tr>\n",
       "    <tr>\n",
       "      <th>4</th>\n",
       "      <td>0.0</td>\n",
       "      <td>0.0</td>\n",
       "      <td>0.0</td>\n",
       "      <td>0.0</td>\n",
       "      <td>0.0</td>\n",
       "      <td>0.0</td>\n",
       "      <td>0.0</td>\n",
       "      <td>0.0</td>\n",
       "      <td>0.0</td>\n",
       "      <td>0.0</td>\n",
       "      <td>...</td>\n",
       "      <td>3.0</td>\n",
       "      <td>0.0</td>\n",
       "      <td>0.0</td>\n",
       "      <td>0.0</td>\n",
       "      <td>0.0</td>\n",
       "      <td>0.0</td>\n",
       "      <td>0.0</td>\n",
       "      <td>0.0</td>\n",
       "      <td>0.0</td>\n",
       "      <td>0.0</td>\n",
       "    </tr>\n",
       "  </tbody>\n",
       "</table>\n",
       "<p>5 rows × 500 columns</p>\n",
       "</div>"
      ],
      "text/plain": [
       "business_id  0    1    2    3    4    5    6    7    8    9    ...  490  491  \\\n",
       "user_id                                                        ...             \n",
       "0            0.0  0.0  0.0  0.0  0.0  0.0  0.0  0.0  0.0  0.0  ...  0.0  0.0   \n",
       "1            0.0  0.0  0.0  0.0  0.0  0.0  0.0  0.0  0.0  0.0  ...  0.0  0.0   \n",
       "2            0.0  0.0  0.0  0.0  0.0  0.0  0.0  0.0  0.0  0.0  ...  4.0  0.0   \n",
       "3            0.0  0.0  0.0  0.0  0.0  0.0  0.0  0.0  0.0  0.0  ...  0.0  0.0   \n",
       "4            0.0  0.0  0.0  0.0  0.0  0.0  0.0  0.0  0.0  0.0  ...  3.0  0.0   \n",
       "\n",
       "business_id  492  493  494  495  496  497  498  499  \n",
       "user_id                                              \n",
       "0            0.0  0.0  0.0  0.0  0.0  0.0  5.0  0.0  \n",
       "1            0.0  0.0  0.0  0.0  0.0  0.0  0.0  0.0  \n",
       "2            0.0  0.0  0.0  0.0  0.0  0.0  0.0  0.0  \n",
       "3            0.0  0.0  0.0  0.0  0.0  0.0  0.0  0.0  \n",
       "4            0.0  0.0  0.0  0.0  0.0  0.0  0.0  0.0  \n",
       "\n",
       "[5 rows x 500 columns]"
      ]
     },
     "execution_count": 56,
     "metadata": {},
     "output_type": "execute_result"
    }
   ],
   "source": [
    "# Visualize the the arizona train pivot table\n",
    "arizona_pivot_train.head()"
   ]
  },
  {
   "cell_type": "code",
   "execution_count": 57,
   "metadata": {},
   "outputs": [],
   "source": [
    "# Preprocess the data into a sparse matrix format\n",
    "arizona_train_matrix = csr_matrix(arizona_pivot_train.values)\n",
    "arizona_val_matrix = csr_matrix(arizona_pivot_val.values)\n",
    "arizona_test_matrix = csr_matrix(arizona_pivot_test.values)"
   ]
  },
  {
   "cell_type": "code",
   "execution_count": 58,
   "metadata": {},
   "outputs": [
    {
     "data": {
      "text/plain": [
       "13286"
      ]
     },
     "execution_count": 58,
     "metadata": {},
     "output_type": "execute_result"
    }
   ],
   "source": [
    "# Need to clear the RAM in order to run the next few code cells\n",
    "del yelp_df\n",
    "del business_df\n",
    "del review_df\n",
    "gc.collect() # garbage collector function to save some RAM"
   ]
  },
  {
   "attachments": {},
   "cell_type": "markdown",
   "metadata": {},
   "source": [
    "## <b>5 <span style='color:#F76241'>|</span> KNN Model Building & Recommender</b>\n",
    "\n",
    "KNN is a non-parametric, lazy learning algorithm. It is used for both classification and regression problems. It is a supervised learning algorithm which stores all the available data points and classifies a new data point based on the similarity. It is a distance-based algorithm that does not make any assumptions on the underlying data distribution. It is also called a lazy learner algorithm because it does not learn from the training set immediately instead it stores the dataset and at the time of classification, it performs an action on the dataset. It is called a non-parametric algorithm because it does not make any assumption on the underlying data distribution. In this algorithm, the value of K is very crucial. K is the number of nearest neighbors to be considered. K can be any integer. A small value of K means that noise will have a higher influence on the result and a large value make it computationally expensive. The value of K should be such that most of the times it should be an odd number. The best value of K is selected by testing using different values of K. The most common distance metric used in KNN is Euclidean, Manhattan, and Minkowski. The Euclidean distance is the most used distance metric. The Minkowski distance is a generalization of the Euclidean and Manhattan distance.\n",
    "\n",
    "The KNN model built in this assignment is based on the **user-user similarity**.\n",
    "\n",
    "The Knn recommendation system takes user ID as an input and identifies 10 similar users using the KNN algorithm. It then recommends the business with the highest average rating among the 10 similar users.\n",
    "\n",
    "The system is built on the Yelp dataset, which includes User IDs, Business IDs, and business ratings. By leveraging this data, we are able to provide users with recommendations that are tailored to the preferences of similar users. In the next section, we implement the following steps to build the KNN model:\n",
    "\n",
    "- Performing hyperparameter tuning using the validation set by trying out different hyperparameter combinations and evaluate their performance on the validate matrix. This is performed using the GridSearchCV() function from the sklearn.model_selection library.\n",
    "- I use the sparse train user-business matrix to train the best KNN model using the best hyperparameter values. This is embedded in the similar_users() function.\n",
    "- Create a function called \"get_user_similar_users()\" to get the top 'k' similar users for a given user.\n",
    "- using the similar_users() function, I create a function called \"get_user_similar_businesses()\" to get the top 'k' similar businesses for a given user.\n",
    "- Using the similar_users() function, I create a function called \"recommend_top_nevada_businesses_rmse()\" to get the top 'k' business recommendations for a given user and evaluate the performance of the KNN model on the test set using RMSE as the performance metric.\n",
    "\n",
    "More details on the implementation of the KNN model are provided in the following subsections. The same process is repeated for both the Nevada and Arizona datasets."
   ]
  },
  {
   "attachments": {},
   "cell_type": "markdown",
   "metadata": {},
   "source": [
    "#### <b>5.1 <span style='color:#F76241'>|</span> NEVADA RECOMMENDER USING KNN </b><br>\n",
    "\n",
    " ***5.1.1<span style='color:#F76241'>|</span>KNN Hyperparameter Tuning*** <br>\n",
    " \n",
    " Hyperparameter tuning is the process of finding the best set of parameters for a machine learning model. It is an important step in the machine learning pipeline. It is also called hyperparameter optimization. It is a part of the model selection process. In machine learning, hyperparameter tuning is a crucial task to improve the performance of a model. The K-nearest neighbor (KNN) algorithm is a widely used classification algorithm in various fields, including ecology (Schratz et al. 2019). Hyperparameter tuning of KNN involves selecting the optimal value of K, which determines the number of nearest neighbors to consider when making predictions. Schratz et al. (2019) evaluated the impact of KNN hyperparameter tuning on the accuracy of a species distribution model. They found that a small change in the value of K can significantly affect the performance of the model. The optimal value of K varied depending on the dataset and the specific modeling task. Therefore, it is important to perform hyperparameter tuning for each individual dataset and modeling task to achieve the best performance of the KNN algorithm. In addition to K, other hyperparameters such as the distance metric and the weighting scheme can also affect the performance of the KNN algorithm. Therefore, a comprehensive hyperparameter tuning process should consider multiple hyperparameters simultaneously (Schratz et al. 2019) <br>\n",
    " \n",
    " **REFERENCE:**\n",
    " P Schratz., J Muenchow., E Iturritxa., J Richter.\"Hyperparameter tuning and performance assessment of statistical and machine-learning algorithms using spatial data.\"https://www.sciencedirect.com/science/article/pii/S0304380019302145\n",
    " \n",
    " In the code below, we perform hyperparameter tuning on the validation dataset to find the best parameters for the KNN model. We use the GridSearchCV() function from the sklearn.model_selection library to perform hyperparameter tuning. We use the following parameters for hyperparameter tuning:\n",
    " \n",
    " - n_neighbors: This is the number of neighbors to consider when making predictions. We use the values 5, 10, 15, 20, 25, and 30 for this parameter.\n",
    " - metric: This is the distance metric to use for the tree. We use the values 'euclidean', 'manhattan', 'minkowski', 'cosine' for this parameter.\n",
    " - algorithm: This is the algorithm to use for computing the nearest neighbors. We use the values auto, brute and ball_tree for this parameter.\n",
    " \n",
    " Since we want to minimize the error between the predicted and actual values, we use the negative mean squared error. By default, GridSearchCV tries to maximize the score, so we need to negate the mean squared error to ensure that the best hyperparameters are the ones that produce the lowest error.\n",
    " \n",
    " We use the 'NearestNeighbors' model from the sklearn.neighbors library instead of 'KNeighborsClassifier' or 'KNeighborsRegressor' model for hyperparameter tuning. This is based on the fact that we are trying to find the nearest neighbors of a user or business and not trying to classify the businesses or predict the ratings for the businesses. KNeighborsClassifier is suitable for predicting discrete labels or categories, while KNeighborsRegressor is more appropriate for predicting continuous values. NearestNeighbors is a general-purpose implementation of the K-nearest neighbors algorithm that can be used for both classification and regression tasks, focusing on finding the nearest neighbors to a given data point. In this case, we are trying to find users who rated similar businesses so we use the NearestNeighbors model for hyperparameter tuning. \n",
    "\n",
    " Again, Note that the process is repeated for both the Nevada and Arizona datasets.\n",
    " "
   ]
  },
  {
   "cell_type": "code",
   "execution_count": 59,
   "metadata": {},
   "outputs": [
    {
     "name": "stdout",
     "output_type": "stream",
     "text": [
      "Fitting 5 folds for each of 32 candidates, totalling 160 fits\n",
      "Best parameters: {'algorithm': 'auto', 'metric': 'euclidean', 'n_neighbors': 10}\n",
      "Best estimator: NearestNeighbors(metric='euclidean', n_neighbors=10)\n"
     ]
    },
    {
     "name": "stderr",
     "output_type": "stream",
     "text": [
      "c:\\Users\\User\\AppData\\Local\\Programs\\Python\\Python310\\lib\\site-packages\\sklearn\\model_selection\\_search.py:952: UserWarning: One or more of the test scores are non-finite: [nan nan nan nan nan nan nan nan nan nan nan nan nan nan nan nan nan nan\n",
      " nan nan nan nan nan nan nan nan nan nan nan nan nan nan]\n",
      "  warnings.warn(\n"
     ]
    }
   ],
   "source": [
    "#performing hyperparameter tuning on the KNN model\n",
    "#Create a dictionary of hyperparameters to tune\n",
    "params = {'n_neighbors': [10, 15, 20, 25],\n",
    "            'algorithm': ['auto', 'brute'],\n",
    "            'metric': ['euclidean', 'manhattan', 'minkowski', 'cosine']}\n",
    "\n",
    "# Step 4: Create Grid Search Object\n",
    "knn = NearestNeighbors()\n",
    "knn_grid = GridSearchCV(knn, params, cv=5, scoring='neg_mean_squared_error', verbose=1, n_jobs=-1)\n",
    "\n",
    "# Fit the grid search\n",
    "knn_grid.fit(nevada_val_matrix) # Fit the grid search to fitted dataset\n",
    "\n",
    "# Print the best parameters and score\n",
    "print(\"Best parameters:\", knn_grid.best_params_)\n",
    "print(\"Best estimator:\", knn_grid.best_estimator_)"
   ]
  },
  {
   "cell_type": "code",
   "execution_count": 60,
   "metadata": {},
   "outputs": [
    {
     "name": "stdout",
     "output_type": "stream",
     "text": [
      "Sushi Takashi\n"
     ]
    }
   ],
   "source": [
    "#Adopted from: https://www.kaggle.com/code/sunilgautam/recommendation-system-using-knn\n",
    "#Defining a helper function to get retrieve the business names from the business indices\n",
    "def get_title(business_id, dataframe):\n",
    "    target_df = dataframe.loc[dataframe['business_id'] == business_id]\n",
    "    return target_df['business_name'].iloc[0]\n",
    "\n",
    "print(get_title(1, nevada_filtered))"
   ]
  },
  {
   "cell_type": "code",
   "execution_count": 61,
   "metadata": {},
   "outputs": [
    {
     "name": "stdout",
     "output_type": "stream",
     "text": [
      "232\n"
     ]
    }
   ],
   "source": [
    "def get_book_id(business_name, dataframe):\n",
    "    target_df = dataframe.loc[dataframe['business_name'] == business_name]\n",
    "    return target_df['business_id'].iloc[0]\n",
    "\n",
    "id_scooplv = get_book_id('Hash House A Go Go', nevada_filtered)\n",
    "print(id_scooplv)"
   ]
  },
  {
   "attachments": {},
   "cell_type": "markdown",
   "metadata": {},
   "source": [
    "The function ***nevada_similar_users(user_id, matrix, n_neighbors=10)*** is designed to find users that are most similar to a given user in the Nevada region.<br>\n",
    "The parameters are:\n",
    "\n",
    "user_id: The ID of the user for whom we want to find similar users.\n",
    "matrix: A user-item matrix, where rows correspond to users and columns correspond to items (in this case, businesses). The values in the matrix represent user ratings for businesses.\n",
    "n_neighbors: The number of similar users to find. The default value is 10.\n",
    "The function begins by initializing two empty lists, similarities and indices.\n",
    "\n",
    "Next, the function creates an instance of the NearestNeighbors class. The metric used to calculate distance between data points is set to 'cosine', and the algorithm used to compute the nearest neighbors is set to 'brute'.\n",
    "\n",
    "The NearestNeighbors model is then fitted to the Nevada region user-item matrix, nevada_train_matrix.\n",
    "\n",
    "The kneighbors method is used to find the n_neighbors + 1 nearest neighbors to the given user_id. The '+1' is used because the user is considered as their own nearest neighbor. The function returns two arrays: distances, which contains the distances to the nearest neighbors, and indices, which contains the indices of these neighbors.\n",
    "\n",
    "The similarities are calculated The function uses the Nearest Neighbors algorithm from the sklearn library to compute these similarities. The distance metric used to measure similarity is Euclidean distance, which is a common choice for problems in two or more dimensions. The lower the Euclidean distance, the more similar the two users are. The function then returns the indices, similarities, and distances."
   ]
  },
  {
   "cell_type": "code",
   "execution_count": 62,
   "metadata": {},
   "outputs": [],
   "source": [
    "# Define a function to return similar users based on the KNN model\n",
    "def nevada_similar_users(user_id, matrix, n_neighbors=10):\n",
    "    similarities = [] # Empty lists to store the calculated similarities and indices\n",
    "    indices = []\n",
    "    best_knn = NearestNeighbors(metric = 'euclidean', algorithm = 'auto') # Create instance of KNN model\n",
    "    best_knn.fit(nevada_train_matrix) # Fit the model to the training set\n",
    "    distances, indices = best_knn.kneighbors(matrix[user_id], n_neighbors = n_neighbors+1) # Find the k nearest neighbors\n",
    "    similarities = 1 - distances.flatten() # Calculate the similarity scores\n",
    "    return indices, similarities, distances # Return the indices, similarities and distances"
   ]
  },
  {
   "cell_type": "code",
   "execution_count": 87,
   "metadata": {},
   "outputs": [
    {
     "name": "stdout",
     "output_type": "stream",
     "text": [
      "The 5 most similar users for User #37 are:\n",
      "\n",
      "User #37 (self)\n",
      "User #6915, with similarity of 1.0, and distance of 0.0\n",
      "User #49934, with similarity of 1.0, and distance of 0.0\n",
      "User #32135, with similarity of 1.0, and distance of 0.0\n",
      "User #35778, with similarity of 0.0, and distance of 1.0\n",
      "User #21140, with similarity of 0.0, and distance of 1.0\n",
      "User #21687, with similarity of 0.0, and distance of 1.0\n",
      "User #31533, with similarity of 0.0, and distance of 1.0\n",
      "User #45994, with similarity of 0.0, and distance of 1.0\n",
      "User #12697, with similarity of 0.0, and distance of 1.0\n",
      "User #14570, with similarity of 0.0, and distance of 1.0\n"
     ]
    }
   ],
   "source": [
    "# find similar users for user 27 on the test set\n",
    "indices, similarities, distances  = nevada_similar_users(100, nevada_test_matrix, n_neighbors=10)\n",
    "\n",
    "# Print the similar users\n",
    "print('The 5 most similar users for User #37 are:\\n')\n",
    "for i in range(0, len(similarities)):\n",
    "    if i == 0:\n",
    "        print('User #37 (self)')\n",
    "    else:\n",
    "        print('User #{0}, with similarity of {1}, and distance of {2}'.format(indices.flatten()[i], similarities.flatten()[i], distances.flatten()[i]))"
   ]
  },
  {
   "attachments": {},
   "cell_type": "markdown",
   "metadata": {},
   "source": [
    "This function, ***'recommend_top_nevada_businesses_rmse'***, provides recommendations for the top businesses in Nevada to a given user based on the similiar users already computed from the KNN model for the businesses in Nevada. The function implements a collaborative filtering approach, specifically a user-based method which returns the top_n businesses recommended for a given user and , and also computes the Root Mean Squared Error (RMSE) of the KNN model on the test set.\n",
    "\n",
    "It is executed in the following manner:\n",
    "\n",
    "1. It first determines the similar users to the input user_id based on a provided similarity matrix and a number of neighbors to consider (default is 10).\n",
    "\n",
    "2. The function then sorts these similar users in decreasing order of their similarity scores, effectively ranking them from most to least similar to the input user.\n",
    "\n",
    "3. A DataFrame is created with these similar users, which is then merged with the provided Nevada business data set. The merging operation is based on the user_id, aligning the similar users with their respective business interactions.\n",
    "\n",
    "4. Each row in this DataFrame is assigned a 'recommendation weight', calculated as the product of the user's similarity score and their rating for the business. This step essentially gives more weight to ratings provided by users who are more similar to the input user.\n",
    "\n",
    "5. The similarity scores are dropped from the DataFrame as they are no longer needed after the computation of the recommendation weights.\n",
    "\n",
    "6. Predicted ratings for each business are computed as the mean of the ratings provided by the top similar users.\n",
    "\n",
    "7. Finally, the function prints the top 10 businesses for recommendation and also calculates and prints the RMSE of the model, which measures the model's prediction error.\n",
    "\n",
    "<b>Please Note that the same process is repeated and true for the Arizona KNN Model in the next section and thus no need for repitition.</b>"
   ]
  },
  {
   "cell_type": "code",
   "execution_count": 64,
   "metadata": {},
   "outputs": [],
   "source": [
    "from math import sqrt\n",
    "from sklearn.metrics import mean_squared_error\n",
    "\n",
    "def recommend_top_nevada_businesses_rmse(user_id, matrix, nevada_filtered, n_neighbors=10):\n",
    "    similar_user = []\n",
    "    indices, similarities, _ = nevada_similar_users(user_id, matrix, n_neighbors)\n",
    "    \n",
    "    # sort the list of similar users by ascending order of their similiarity  \n",
    "    similar_user = sorted(list(zip(indices.flatten(), similarities.flatten())), key=lambda x: x[1], reverse=True) # Create a dataframe of similar users based on the indices\n",
    "    # Create a dataframe of similar users based on the indices\n",
    "    top_users_df = pd.DataFrame(similar_user, columns=['user_id', 'similarity']) # Create a dataframe of similar users based on the indices\n",
    "    top_users_df = pd.merge(top_users_df, nevada_filtered, on='user_id')\n",
    "    top_users_df['recommendation_weight'] = top_users_df.apply(lambda x: x['similarity'] * x['rating'], axis=1) # Calculate the recommendation weight\n",
    "    top_users_df = top_users_df.drop([\"similarity\"], axis=1) # Drop the similarity column\n",
    "\n",
    "    # Predict ratings of the given business by taking the mean of ratings of top 10 businesses\n",
    "    top_users_df['predicted_ratings'] = top_users_df.groupby('business_id')['rating'].transform('mean')\n",
    "    \n",
    "    print('The top 10 recommended businesses for user {user_id} are:', top_users_df.head(10))\n",
    "    \n",
    "    y_true = top_users_df['rating']\n",
    "    y_pred = top_users_df['predicted_ratings']\n",
    "\n",
    "    mse = mean_squared_error(y_true, y_pred)\n",
    "    rmse = sqrt(mse)\n",
    "\n",
    "    print('The RMSE of the model is:', rmse)\n"
   ]
  },
  {
   "cell_type": "code",
   "execution_count": 88,
   "metadata": {},
   "outputs": [
    {
     "name": "stdout",
     "output_type": "stream",
     "text": [
      "The top 10 recommended businesses for user {user_id} are:    user_id                   business_name  business_id  rating  \\\n",
      "0    29629  Prosecco Fresh Italian Kitchen          269     3.0   \n",
      "1     6915  Prosecco Fresh Italian Kitchen          269     3.0   \n",
      "2    49934  Prosecco Fresh Italian Kitchen          269     3.0   \n",
      "3    32135  Prosecco Fresh Italian Kitchen          269     3.0   \n",
      "4    35778  Prosecco Fresh Italian Kitchen          269     2.0   \n",
      "5    21140  Prosecco Fresh Italian Kitchen          269     4.0   \n",
      "6    21687  Prosecco Fresh Italian Kitchen          269     4.0   \n",
      "7    31533  Prosecco Fresh Italian Kitchen          269     2.0   \n",
      "8    45994  Prosecco Fresh Italian Kitchen          269     4.0   \n",
      "9    12697  Prosecco Fresh Italian Kitchen          269     4.0   \n",
      "\n",
      "   recommendation_weight  predicted_ratings  \n",
      "0                    3.0           3.090909  \n",
      "1                    3.0           3.090909  \n",
      "2                    3.0           3.090909  \n",
      "3                    3.0           3.090909  \n",
      "4                    0.0           3.090909  \n",
      "5                    0.0           3.090909  \n",
      "6                    0.0           3.090909  \n",
      "7                    0.0           3.090909  \n",
      "8                    0.0           3.090909  \n",
      "9                    0.0           3.090909  \n",
      "The RMSE of the model is: 0.7925270806437588\n"
     ]
    }
   ],
   "source": [
    "# Get the top 10 recommendations for user #100\n",
    "recommend_top_nevada_businesses_rmse(100, nevada_test_matrix, nevada_filtered, 10)"
   ]
  },
  {
   "attachments": {},
   "cell_type": "markdown",
   "metadata": {},
   "source": [
    "#### <b>5.2 <span style='color:#F76241'>|</span> ARIZONA RECOMMENDER USING KNN MODEL </b>"
   ]
  },
  {
   "cell_type": "code",
   "execution_count": 66,
   "metadata": {},
   "outputs": [
    {
     "name": "stdout",
     "output_type": "stream",
     "text": [
      "Fitting 5 folds for each of 32 candidates, totalling 160 fits\n",
      "Best parameters: {'algorithm': 'auto', 'metric': 'euclidean', 'n_neighbors': 10}\n",
      "Best estimator: NearestNeighbors(metric='euclidean', n_neighbors=10)\n"
     ]
    },
    {
     "name": "stderr",
     "output_type": "stream",
     "text": [
      "c:\\Users\\User\\AppData\\Local\\Programs\\Python\\Python310\\lib\\site-packages\\sklearn\\model_selection\\_search.py:952: UserWarning: One or more of the test scores are non-finite: [nan nan nan nan nan nan nan nan nan nan nan nan nan nan nan nan nan nan\n",
      " nan nan nan nan nan nan nan nan nan nan nan nan nan nan]\n",
      "  warnings.warn(\n"
     ]
    }
   ],
   "source": [
    "#performing hyperparameter tuning on the KNN model\n",
    "#Create a dictionary of hyperparameters to tune\n",
    "params = {'n_neighbors': [10, 15, 20, 25],\n",
    "            'algorithm': ['auto', 'brute'],\n",
    "            'metric': ['euclidean', 'manhattan', 'minkowski', 'cosine']}\n",
    "\n",
    "# Step 4: Create Grid Search Object\n",
    "knn1 = NearestNeighbors()\n",
    "knn_grid1 = GridSearchCV(knn1, params, cv=5, scoring='neg_mean_squared_error', verbose=1, n_jobs=-1)\n",
    "\n",
    "# Fit the grid search\n",
    "knn_grid1.fit(arizona_val_matrix) # Fit the grid search to fitted dataset\n",
    "\n",
    "# Print the best parameters and score\n",
    "print(\"Best parameters:\", knn_grid.best_params_)\n",
    "print(\"Best estimator:\", knn_grid.best_estimator_)"
   ]
  },
  {
   "cell_type": "code",
   "execution_count": 67,
   "metadata": {},
   "outputs": [],
   "source": [
    "# Define a function to return similar users based on the KNN model\n",
    "def arizona_similar_users(user_id, matrix, n_neighbors=10):\n",
    "    similarities = [] # Empty lists to store the calculated similarities and indices\n",
    "    indices = [] # Empty lists to store the calculated similarities and indices\n",
    "    best_knn = NearestNeighbors(metric = 'euclidean', algorithm = 'auto') # Create instance of KNN model\n",
    "    best_knn.fit(nevada_train_matrix) # Fit the model to the training set\n",
    "    distances, indices = best_knn.kneighbors(matrix[user_id], n_neighbors = n_neighbors+1) # Find the k nearest neighbors\n",
    "    similarities = 1 - distances.flatten() # Calculate the similarity scores\n",
    "    return indices, similarities, distances"
   ]
  },
  {
   "cell_type": "code",
   "execution_count": 96,
   "metadata": {},
   "outputs": [
    {
     "name": "stdout",
     "output_type": "stream",
     "text": [
      "The 5 most similar users for User #200 are:\n",
      "\n",
      "User #200 (self)\n",
      "User #50305, with similarity of 1.0, and distance of 0.0\n",
      "User #50529, with similarity of 1.0, and distance of 0.0\n",
      "User #41653, with similarity of 1.0, and distance of 0.0\n",
      "User #43256, with similarity of 1.0, and distance of 0.0\n",
      "User #29096, with similarity of 1.0, and distance of 0.0\n",
      "User #723, with similarity of 1.0, and distance of 0.0\n",
      "User #34192, with similarity of 1.0, and distance of 0.0\n",
      "User #10767, with similarity of 1.0, and distance of 0.0\n",
      "User #14511, with similarity of 1.0, and distance of 0.0\n",
      "User #31300, with similarity of 1.0, and distance of 0.0\n"
     ]
    }
   ],
   "source": [
    "# find similar users for user on the test set\n",
    "indices, similarities, distances  = arizona_similar_users(250, arizona_test_matrix, n_neighbors=10)\n",
    "\n",
    "# Print the similar users\n",
    "print('The 5 most similar users for User #200 are:\\n')\n",
    "for i in range(0, len(similarities)):\n",
    "    if i == 0: # User #200 is the first user in the list\n",
    "        print('User #200 (self)') # Print out the user number and similarity score\n",
    "    else:\n",
    "        print('User #{0}, with similarity of {1}, and distance of {2}'.format(indices.flatten()[i], similarities.flatten()[i], distances.flatten()[i])) # Print out the user number and similarity score"
   ]
  },
  {
   "cell_type": "code",
   "execution_count": 69,
   "metadata": {},
   "outputs": [],
   "source": [
    "def recommend_top_arizona_businesses_rmse(user_id, matrix, nevada_filtered, n_neighbors=10):\n",
    "    similar_user = []\n",
    "    indices, similarities, _ = arizona_similar_users(user_id, matrix, n_neighbors)\n",
    "    \n",
    "    # sort the list of similar users by ascending order of their similiarity \n",
    "    similar_user = sorted(list(zip(indices.flatten(), similarities.flatten())), key=lambda x: x[1], reverse=True)\n",
    "    # Create a dataframe of similar users based on the indices\n",
    "    top_users_df = pd.DataFrame(similar_user, columns=['user_id', 'similarity'])\n",
    "    top_users_df = pd.merge(top_users_df, nevada_filtered, on='user_id')\n",
    "    top_users_df['recommendation_weight'] = top_users_df.apply(lambda x: x['similarity'] * x['rating'], axis=1)\n",
    "    top_users_df = top_users_df.drop([\"similarity\"], axis=1)\n",
    "\n",
    "    # Predict ratings of the given business by taking the mean of ratings of top 10 businesses\n",
    "    top_users_df['predicted_ratings'] = top_users_df.groupby('business_id')['rating'].transform('mean')\n",
    "    \n",
    "    print('The top 10 recommended businesses for user {user_id} are:', top_users_df.head(10))\n",
    "    \n",
    "    y_true = top_users_df['rating']\n",
    "    y_pred = top_users_df['predicted_ratings']\n",
    "\n",
    "    mse = mean_squared_error(y_true, y_pred)\n",
    "    rmse = sqrt(mse)\n",
    "\n",
    "    print('The RMSE of the model is:', rmse)"
   ]
  },
  {
   "cell_type": "code",
   "execution_count": 97,
   "metadata": {},
   "outputs": [
    {
     "name": "stdout",
     "output_type": "stream",
     "text": [
      "The top 10 recommended businesses for user {user_id} are:    user_id                   business_name  business_id  rating  \\\n",
      "0    16161                    Hash Kitchen          275     3.0   \n",
      "1    27855                     Akita Sushi          175     5.0   \n",
      "2    19426                   Postino Annex          424     5.0   \n",
      "3    19426                   Postino Annex          424     1.0   \n",
      "4    34288            Modern Market Eatery          312     5.0   \n",
      "5    11362                  Chou's Kitchen          311     4.0   \n",
      "6    11362      Arizona Wilderness Brewing          435     4.0   \n",
      "7     7673                      NYPD Pizza          114     4.0   \n",
      "8    12140  Juan Jaime's Tacos and Tequila          293     3.0   \n",
      "9    12140              Zorba's Greek Cafe           86     5.0   \n",
      "\n",
      "   recommendation_weight  predicted_ratings  \n",
      "0                    3.0                3.0  \n",
      "1                    0.0                5.0  \n",
      "2                    0.0                3.0  \n",
      "3                    0.0                3.0  \n",
      "4                    0.0                5.0  \n",
      "5                    0.0                4.0  \n",
      "6                    0.0                4.0  \n",
      "7                    0.0                4.0  \n",
      "8                    0.0                3.0  \n",
      "9                    0.0                5.0  \n",
      "The RMSE of the model is: 0.7302967433402214\n"
     ]
    }
   ],
   "source": [
    "# Get the top 10 recommendations for user #25\n",
    "recommend_top_arizona_businesses_rmse(200, arizona_test_matrix, arizona_filtered, 10)"
   ]
  },
  {
   "attachments": {},
   "cell_type": "markdown",
   "metadata": {},
   "source": [
    "## <b>6 <span style='color:#F76241'>|</span> SVD Model Building </b>\n",
    "\n",
    "According to Anwar et al. (2021), SVD is particularly useful when dealing with large and sparse data sets as it helps in identifying the underlying structure of data and reducing the dimensionality of the data set. The Singular Value Decomposition (SVD) algorithm is a powerful technique for matrix factorization and has many applications in data analysis, machine learning, and recommender systems. In the context of recommender systems, the SVD algorithm is used to predict user ratings for items based on their past ratings and the ratings of other users with similar preferences. The implementation of the SVD algorithm in the Surprise package offers a user-friendly and efficient tool for recommender systems. The Surprise package is a Python library for building and analyzing recommender systems that provides a variety of algorithms including SVD. The implementation of SVD in Surprise is based on the iterative optimization of a cost function that minimizes the difference between the predicted and actual ratings. The algorithm takes into account the sparsity of the data by using regularization techniques to avoid overfitting. The implementation also includes options for tuning hyperparameters such as the number of factors and the regularization parameter to improve the performance of the algorithm. The Surprise package provides a simple and flexible interface for using the SVD algorithm in recommender systems and has been used in various real-world applications with promising results (Hug).\n",
    "\n",
    "A general overview of how the SVD algorithm concept is given below:\n",
    "\n",
    "1. **Matrix representation:** Let's assume we have a user-item rating matrix R of size m x n, where m represents the number of users and n is the total number of items (such as businesses). This matrix R contains ratings given by users for various items.\n",
    "\n",
    "2. **Mean Centering:** To reduce bias in ratings and make data suitable for factorization, mean centering allows us to capture users' relative preferences more precisely. We subtract the mean from each row's (user's) ratings in this step of mean centering.\n",
    "\n",
    "3. **SVD Factorization:** SVD divides a mean-centered rating matrix R into three matrices: U, S and VT where U is equal to Uniform Scalar Vector Differentiation and VT stands for Volumetric Vector Decomposition.\n",
    "\n",
    "4. U is an m x k orthogonal matrix representing users' latent factors. S is a diagonal matrix with singular values (strengths) ordered descendingly; these singular values capture each factor's importance.\n",
    "VT is an orthogonal matrix representing items' latent factors.\n",
    "Latent factors represent characteristics or features underlying users and items that contribute to rating systems, while their number, denoted as k, determines approximations levels of original matrix R.\n",
    "\n",
    "5. **Dimensionality Reduction:** To decrease the dimensionality of our matrix, we may choose to keep only the top k singular values and columns from U and VT. This approach will allow us to capture only significant factors while discarding noise or less important contributors.\n",
    "\n",
    "6. **Reconstruction:** To approximate the original rating matrix R, we can reconstruct it using reduced versions of U, S and VT matrices. The resultant matrix R' is obtained by taking its dot product; thus R' = U*S*VT\n",
    "\n",
    "7. **Predictions:** Once we have our reconstructed matrix R', we can use it to estimate missing ratings or recommend items to users. For any given user, this involves considering both their latent factors (U) and those for unrated items (VT), with our predicted rating being determined as the dot product between these factors (U + V+ T).\n",
    "\n",
    "8. **Prediction** Formula: Prediction = U[user_index,:]*S * VT[:, item_index]\n",
    "\n",
    "9. **Model Training and Evaluation:** In practice, datasets are separated into train, validation, and test sets. Train sets are used to train an SVD model by performing matrix factorization to find latent factors; validation sets serve to fine-tune hyperparameter settings by selecting an optimal number of latent factors k. Finally, test sets are used to evaluate performance by comparing predicted ratings with actual ratings and computing evaluation metrics such as Root Mean Squared Error (RMSE) or Mean Absolute Error (MAE).\n",
    "\n",
    "10. SVD provides a low-rank approximation of an original rating matrix, capturing latent factors that shape user preferences. This facilitates efficient representation, prediction, and recommendation within collaborative filtering-based recommender systems.<br>\n",
    "\n",
    "**REFERENCE:**\n",
    "T Anwar., V Uma., G Srivastava.\"Rec-CFSVD: Implementing Recommendation System Using Collaborative Filtering and Singular Value Decomposition (SVD).\"https://www.worldscientific.com/doi/abs/10.1142/S0219622021500310\n",
    "\n",
    "In the code below. the SVD algorithm is implemented in the Surprise package using the following steps:<br>\n",
    "\n",
    "1. **Data Preprocessing & Surprise Library Importing**<br>\n",
    "Surprise Library is imported and Surprise's internal preprocessing transforms our Nevada and Arizona filtered datasets into suitable formats for further processing<br>\n",
    "\n",
    "2. **Matrix Initialization**<br>\n",
    "Surprise initializes user and item latent factor matrices before training the SVD algorithm, representing hidden factors that describe user-item interactions data. Their dimensions depend on factors such as:<br>\n",
    "\n",
    "  - The number of users on the nevada and arizona data<br>\n",
    "  - The number of businesses on the nevada and arizona data<br>\n",
    "  - The number of latent factors (specified by the n_factors parameter)<br>\n",
    "Surprise finally initialize this matrix using small random values that may help speed up initialization time.<br>\n",
    "\n",
    "1. **Training**<br>\n",
    "  - In the training phase, Surprise uses Stochastic Gradient Descent (SGD) optimization procedure during its training phase to learn user and item latent factor matrices by minimizing squared errors between observed ratings and predicted ratings.\n",
    "  - Regularization terms are added to an optimization objective to prevent overfitting.\n",
    "  - Learning takes place over an iterative series of epochs with each iteration updating latent factor matrices as it progresses <br>\n",
    "  - The algorithm also calculates user and business biases to account for inherent biases in data, learning these biases during its training phase alongside its latent factor matrices.<br>\n",
    "\n",
    "2. **Rating Prediction**<br>\n",
    "Once the SVE model has been trained, it predicts ratings for yelp users in the given region. To provide accurate predictions for any user-item pair, the following steps were followed:<br>\n",
    "\n",
    "  - Calculate the dot product of the user's latent factors and the item's latent factors.<br>\n",
    "  - Add the user and item biases.<br>\n",
    "  - The resulting value represents the predicted rating for the user-item pair.<br>\n",
    "\n",
    "5. **Model Evaluation**<br>\n",
    "Surprise utilizes Root Mean Squared Error (RMSE) metrics to assess the accuracy of predictions made by our SVD model, by comparing predicted ratings against actual ratings in the test set.<br>\n",
    "\n",
    "6. **Business recommendation**<br>\n",
    "The SVD model recommends businesses to users based on their predicted ratings. The top 10 businesses with the highest predicted ratings are recommended to users.<br>"
   ]
  },
  {
   "attachments": {},
   "cell_type": "markdown",
   "metadata": {},
   "source": [
    "##### <b>6.1 <span style='color:#F76241'>|</span> NEVADA RECOMMENDER USING SVD MODEL </b>"
   ]
  },
  {
   "cell_type": "code",
   "execution_count": 71,
   "metadata": {},
   "outputs": [],
   "source": [
    "#SURPRISE LIBRARY\n",
    "import surprise # surprise library\n",
    "from surprise import Reader # to read in the dataset\n",
    "from surprise.model_selection import cross_validate # to run cross validation\n",
    "from surprise.model_selection import train_test_split as split_sur # to split the data into train and test set\n",
    "from surprise import accuracy, Dataset, SVD # to calculate accuracy\n",
    "from surprise.model_selection import GridSearchCV # for tuning hyperparameters"
   ]
  },
  {
   "cell_type": "code",
   "execution_count": 72,
   "metadata": {},
   "outputs": [],
   "source": [
    "#Calling the SVD Reader\n",
    "reader = Reader(line_format='user item rating', sep=',', skip_lines=1)\n",
    "\n",
    "#Loading the dataset to the Surprise library\n",
    "nevada_svd = surprise.Dataset.load_from_df(nevada_filtered[[\"user_id\", \"business_id\", \"rating\"]], reader)"
   ]
  },
  {
   "cell_type": "code",
   "execution_count": 73,
   "metadata": {},
   "outputs": [
    {
     "name": "stdout",
     "output_type": "stream",
     "text": [
      "Evaluating RMSE, MAE of algorithm SVD on 5 split(s).\n",
      "\n",
      "                  Fold 1  Fold 2  Fold 3  Fold 4  Fold 5  Mean    Std     \n",
      "RMSE (testset)    1.2182  1.2059  1.2074  1.2109  1.2071  1.2099  0.0045  \n",
      "MAE (testset)     0.9624  0.9530  0.9580  0.9578  0.9570  0.9576  0.0030  \n",
      "Fit time          3.03    2.44    2.55    2.50    2.56    2.62    0.21    \n",
      "Test time         1.14    0.24    0.24    0.25    0.24    0.42    0.36    \n"
     ]
    },
    {
     "data": {
      "text/plain": [
       "{'test_rmse': array([1.21817482, 1.20590818, 1.20743209, 1.21086152, 1.20714122]),\n",
       " 'test_mae': array([0.96237057, 0.95302901, 0.95803319, 0.95780434, 0.95696124]),\n",
       " 'fit_time': (3.033726215362549,\n",
       "  2.4363656044006348,\n",
       "  2.5516159534454346,\n",
       "  2.504417896270752,\n",
       "  2.5586254596710205),\n",
       " 'test_time': (1.1389577388763428,\n",
       "  0.24431633949279785,\n",
       "  0.2437148094177246,\n",
       "  0.24617886543273926,\n",
       "  0.23610854148864746)}"
      ]
     },
     "execution_count": 73,
     "metadata": {},
     "output_type": "execute_result"
    }
   ],
   "source": [
    "# defining the SVD algorithm\n",
    "svd_algo = SVD()\n",
    "\n",
    "#Perform a 5-fold cross-validation on the dataset using the SVD algorithm and evaluate using RMSE and MAE\n",
    "cross_validate(svd_algo, nevada_svd, measures=[\"RMSE\", \"MAE\"], cv=5, verbose=True)"
   ]
  },
  {
   "cell_type": "code",
   "execution_count": 74,
   "metadata": {},
   "outputs": [
    {
     "name": "stdout",
     "output_type": "stream",
     "text": [
      "RMSE: 1.2139\n"
     ]
    },
    {
     "data": {
      "text/plain": [
       "1.2138520902836176"
      ]
     },
     "execution_count": 74,
     "metadata": {},
     "output_type": "execute_result"
    }
   ],
   "source": [
    "# test set is made of 25% of the ratings.\n",
    "nevada_svd_train, nevada_svd_test = split_sur(nevada_svd, test_size=0.25) # Split the dataset into 75% trainset and 25% testset\n",
    "\n",
    "# create SVD algorithm with default parameters\n",
    "svd_algo = SVD()\n",
    "\n",
    "# Train the algorithm on the trainset, and predict ratings for the testset\n",
    "svd_algo.fit(nevada_svd_train) # Train the algorithm on the trainset\n",
    "predictions = svd_algo.test(nevada_svd_test) # Predict ratings for the testset\n",
    "\n",
    "# Then compute RMSE\n",
    "accuracy.rmse(predictions) # Compute and print Root Mean Squared Error"
   ]
  },
  {
   "attachments": {},
   "cell_type": "markdown",
   "metadata": {},
   "source": [
    "The function ***recommend_businesses()***, demonstrates how we recommend a list of top businesses to a user using the trained SVD model. The function takes four parameters as input:\n",
    "\n",
    " - user_id (str): This is is the ID of the target user for whom you want to recommend businesses.\n",
    " - svd_model (surprise.prediction_algorithms.matrix_factorization.SVD): This is the trained SVD model that we will use to predict the ratings.\n",
    " - test_set (list): This is a list of tuples. Each tuple should consist of three elements: user_id, business_id, and the true rating that the user has given to the business.\n",
    " - top_n (int, optional): This is the number of top businesses we want to recommend to the user. By default, this value is set to 10.\n",
    "\n",
    "The function iterates over each business in the test set and uses the svd_model.predict method to predict the rating for the user and business. The predicted ratings are stored in the predicted_ratings dictionary.<br>\n",
    "The businesses are then sorted based on their predicted ratings in descending order. The function retrieves the top top_n businesses from the sorted list and returns them as a list of tuples containing the business ID and predicted rating.\n",
    "\n",
    "To use this function, we pass the appropriate arguments such as the user_id, svd_algo (SVD algorithm model), nevada_svd_test (test set), and top_n. It will return the top-rated businesses recommended for the given user based on the predicted ratings. The same process is repeated for the Arizona dataset in the next section."
   ]
  },
  {
   "cell_type": "code",
   "execution_count": 75,
   "metadata": {},
   "outputs": [],
   "source": [
    "def recommend_businesses(user_id, svd_model, test_set, top_n=10):\n",
    "    # Create a dictionary to store predicted ratings for businesses\n",
    "    predicted_ratings = {}\n",
    "    \n",
    "    # Predict ratings for the user on the test set\n",
    "    for _, business_id, true_rating in test_set:\n",
    "        prediction = svd_model.predict(user_id, business_id).est\n",
    "        predicted_ratings[business_id] = prediction\n",
    "    \n",
    "    # Sort the businesses based on predicted ratings in descending order\n",
    "    sorted_businesses = sorted(predicted_ratings.items(), key=lambda x: x[1], reverse=True)\n",
    "    \n",
    "    # Get the top N recommended businesses\n",
    "    top_businesses = sorted_businesses[:top_n]\n",
    "    \n",
    "    return top_businesses"
   ]
  },
  {
   "cell_type": "code",
   "execution_count": 76,
   "metadata": {},
   "outputs": [
    {
     "data": {
      "text/plain": [
       "[(445, 5),\n",
       " (179, 4.994981055216989),\n",
       " (156, 4.983126431348498),\n",
       " (352, 4.9322308835971045),\n",
       " (224, 4.889262579640722),\n",
       " (388, 4.8785093635962875),\n",
       " (43, 4.865940691500906),\n",
       " (268, 4.865490589087739),\n",
       " (358, 4.858016155079616),\n",
       " (132, 4.830988971814239)]"
      ]
     },
     "execution_count": 76,
     "metadata": {},
     "output_type": "execute_result"
    }
   ],
   "source": [
    "#recommend top 10 businesses for user 27\n",
    "recommend_businesses(27, svd_algo, nevada_svd_test, top_n=10)"
   ]
  },
  {
   "attachments": {},
   "cell_type": "markdown",
   "metadata": {},
   "source": [
    "##### <b>6.2 <span style='color:#F76241'>|</span> ARIZONA RECOMMENDER USING SVD MODEL </b>"
   ]
  },
  {
   "cell_type": "code",
   "execution_count": 77,
   "metadata": {},
   "outputs": [
    {
     "name": "stdout",
     "output_type": "stream",
     "text": [
      "Evaluating RMSE, MAE of algorithm SVD on 5 split(s).\n",
      "\n",
      "                  Fold 1  Fold 2  Fold 3  Fold 4  Fold 5  Mean    Std     \n",
      "RMSE (testset)    1.2263  1.2381  1.2292  1.2445  1.2395  1.2355  0.0068  \n",
      "MAE (testset)     0.9752  0.9869  0.9793  0.9928  0.9895  0.9847  0.0065  \n",
      "Fit time          1.88    1.82    1.93    1.89    1.97    1.90    0.05    \n",
      "Test time         0.18    0.19    0.18    0.18    0.20    0.19    0.01    \n"
     ]
    },
    {
     "data": {
      "text/plain": [
       "{'test_rmse': array([1.22627942, 1.23814799, 1.22920117, 1.24448975, 1.23950788]),\n",
       " 'test_mae': array([0.97515796, 0.98685082, 0.97934399, 0.99276466, 0.98951598]),\n",
       " 'fit_time': (1.8813397884368896,\n",
       "  1.815351963043213,\n",
       "  1.934133529663086,\n",
       "  1.8946185111999512,\n",
       "  1.967221975326538),\n",
       " 'test_time': (0.18126296997070312,\n",
       "  0.18831419944763184,\n",
       "  0.1758897304534912,\n",
       "  0.1847820281982422,\n",
       "  0.19552326202392578)}"
      ]
     },
     "execution_count": 77,
     "metadata": {},
     "output_type": "execute_result"
    }
   ],
   "source": [
    "#Calling the SVD Reader\n",
    "reader = Reader(line_format='user item rating', sep=',', skip_lines=1)\n",
    "\n",
    "#Loading the dataset to the Surprise library\n",
    "arizona_svd = surprise.Dataset.load_from_df(arizona_filtered[[\"user_id\", \"business_id\", \"rating\"]], reader)\n",
    "\n",
    "# defining the SVD algorithm\n",
    "svd_algo = SVD()\n",
    "\n",
    "#Perform a 5-fold cross-validation on the dataset using the SVD algorithm and evaluate using RMSE and MAE\n",
    "cross_validate(svd_algo, arizona_svd, measures=[\"RMSE\", \"MAE\"], cv=5, verbose=True)"
   ]
  },
  {
   "cell_type": "code",
   "execution_count": 78,
   "metadata": {},
   "outputs": [
    {
     "name": "stdout",
     "output_type": "stream",
     "text": [
      "RMSE: 1.2392\n"
     ]
    },
    {
     "data": {
      "text/plain": [
       "1.2392370126523014"
      ]
     },
     "execution_count": 78,
     "metadata": {},
     "output_type": "execute_result"
    }
   ],
   "source": [
    "# test set is made of 25% of the ratings.\n",
    "arizona_svd_train, arizona_svd_test = split_sur(arizona_svd, test_size=0.25) # Split the dataset into 75% trainset and 25% testset\n",
    "\n",
    "# create SVD algorithm with default parameters\n",
    "svd_algo = SVD()\n",
    "\n",
    "# Train the algorithm on the trainset, and predict ratings for the testset\n",
    "svd_algo.fit(arizona_svd_train) # Train the algorithm on the trainset\n",
    "predictions = svd_algo.test(arizona_svd_test) # Predict ratings for the testset\n",
    "\n",
    "# Then compute RMSE\n",
    "accuracy.rmse(predictions) # Compute and print Root Mean Squared Error"
   ]
  },
  {
   "cell_type": "code",
   "execution_count": 79,
   "metadata": {},
   "outputs": [],
   "source": [
    "def recommend_businesses(user_id, svd_model, test_set, top_n=10):\n",
    "    # Create a dictionary to store predicted ratings for businesses\n",
    "    predicted_ratings = {}\n",
    "    \n",
    "    # Predict ratings for the user on the test set\n",
    "    for _, business_id, true_rating in test_set:\n",
    "        prediction = svd_model.predict(user_id, business_id).est\n",
    "        predicted_ratings[business_id] = prediction\n",
    "    \n",
    "    # Sort the businesses based on predicted ratings in descending order\n",
    "    sorted_businesses = sorted(predicted_ratings.items(), key=lambda x: x[1], reverse=True)\n",
    "    \n",
    "    # Get the top N recommended businesses\n",
    "    top_businesses = sorted_businesses[:top_n]\n",
    "    \n",
    "    return top_businesses"
   ]
  },
  {
   "cell_type": "code",
   "execution_count": 80,
   "metadata": {},
   "outputs": [
    {
     "data": {
      "text/plain": [
       "[(414, 4.945209859852066),\n",
       " (243, 4.889979525431131),\n",
       " (26, 4.81670662620016),\n",
       " (390, 4.8121222760699),\n",
       " (482, 4.786744444479081),\n",
       " (402, 4.7726686289874705),\n",
       " (380, 4.757040754594818),\n",
       " (75, 4.74831568471236),\n",
       " (13, 4.736101103741723),\n",
       " (485, 4.734396066461198)]"
      ]
     },
     "execution_count": 80,
     "metadata": {},
     "output_type": "execute_result"
    }
   ],
   "source": [
    "#recommend top 10 businesses for user 1\n",
    "recommend_businesses(27, svd_algo, arizona_svd_test, top_n=10)"
   ]
  },
  {
   "attachments": {},
   "cell_type": "markdown",
   "metadata": {},
   "source": [
    "## <b>7 <span style='color:#F76241'>|</span> Conclusion & Results </b>\n",
    "\n",
    "***Please note that the third and fourth questions are rephrased because the top 2 states are now known to be Nevada and Arizona.***<br>\n",
    "\n",
    "<b><span style='color:#F76241'>Sub-Question 3: </span>How effective are the KNN models on the business recommendations in Nevada and Arizona?</b><br>\n",
    "Nevada and Arizona businesses were recommended using KNN models. The KNN model was able to recommend businesses with an RMSE of 0.79 for the Nevada Businesses and 0.73 for the Arona Businesses.\n",
    "   \n",
    "<b><span style='color:#F76241'>Sub-Question 4: </span>How effective are the SVD models on the business recommendations in Nevada and Arizona?</b>\n",
    "Nevada and Arizona businesses were recommended using SVD models. The SVD model was able to recommend businesses with an RMSE of RMSE: 1.2139 for the Nevada Businesses and RMSE: 1.2392 for the Arizona Businesses.This implies that, on average, the predicted ratings from the SVD model deviate from the actual ratings by approximately 1.2 units. Comparing this with the KNN model's RMSE, the SVD model has a higher level of error and lower accuracy in predicting ratings.\n",
    "\n",
    "<b><span style='color:#F76241'>Sub-Question 5: </span> How does the choice of collaborative filtering method (KNN or SVD) impact the recommendation quality for businesses in the top 2 states?</b><br>\n",
    "Based on the RMSE values, it can be inferred that the KNN model performs better in terms of recommendation qualities compared to the SVD model. The lower RMSE of 0.7 suggests that the KNN model provides more accurate and reliable recommendations, indicating a better overall recommendation quality. On the other hand, the SVD model with an RMSE of 1.2 may have limitations in accurately predicting user preferences and could potentially result in less precise recommendations. The KNN model outperformed the SVD model. The RMSE of the KNN model was lower than that of the SVD model. This demonstrates that the KNN model outperforms the SVD model. Therefore, KNN positively impacts the recommendation quality more than the SVD <br>\n",
    "\n",
    "Finally, to answer the main business question **'How can we utilize collaborative filtering methods to develop business recommendations for Yelp users in the top US states?'**, The KNN model is more resilient than the SVD model. This is due to the fact that the KNN model makes no assumptions about the underlying data distribution. The SVD model requires normally distributed data. The KNN model is also easier to understand than the SVD model. This is how easy the KNN model can be conveyed to non-technical persons. Non-technical persons will struggle to understand the SVD model. In addition, the KNN model is more scalable than the SVD model. This is because the KNN model does not require any training. The SVD model requires training. The KNN model is also more flexible than the SVD model. It is also noteworthy to note that the SVD models generally took longer than the KNN models to compute both the models and test it.\n",
    "\n",
    "In conclusion, it is important to note that other factors such as data quality, scalability, and specific application requirements should also be considered when evaluating and choosing the most suitable recommender model for a given scenario. "
   ]
  }
 ],
 "metadata": {
  "kernelspec": {
   "display_name": "Python 3",
   "language": "python",
   "name": "python3"
  },
  "language_info": {
   "codemirror_mode": {
    "name": "ipython",
    "version": 3
   },
   "file_extension": ".py",
   "mimetype": "text/x-python",
   "name": "python",
   "nbconvert_exporter": "python",
   "pygments_lexer": "ipython3",
   "version": "3.10.6"
  },
  "orig_nbformat": 4
 },
 "nbformat": 4,
 "nbformat_minor": 2
}
